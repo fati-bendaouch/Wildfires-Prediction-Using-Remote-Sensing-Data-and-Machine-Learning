{
  "cells": [
    {
      "cell_type": "markdown",
      "metadata": {
        "id": "q-nV_lFIrGfk"
      },
      "source": [
        "# Wildfires Prediction Using Remote Sensing Data and Machine Learning"
      ]
    },
    {
      "cell_type": "markdown",
      "source": [
        "We have implemented a methodology to build a remote sensing dataset related to the state of the crops (**NDVI**), meteorological conditions (**LST**), and the fire indicator \"**Thermal Anomalies**\" using the Google Earth Engine cloud platform. These data were acquired from MODIS (Moderate Resolution Imaging Spectroradiometer), a key instrument onboard the Terra and Aqua satellites."
      ],
      "metadata": {
        "id": "rWLSIUDrjUFI"
      }
    },
    {
      "cell_type": "markdown",
      "source": [
        "\n",
        "\n",
        "<img src='https://raw.githubusercontent.com/jdbcode/G4G19/master/img/data-reduction.png' width='700px' alt='data-to-insight.png'>\n",
        "\n",
        "- [**Earth Engine**](https://earthengine.google.com/) - geospatial data access and processing\n",
        "- [**Pandas**](https://pandas.pydata.org/) - dataframe structure\n",
        "- [**Colab**](https://colab.research.google.com) - integrative Python environment \n",
        "\n",
        "<br><br><br><br><br><br>"
      ],
      "metadata": {
        "id": "Zz_i6R1zixPm"
      }
    },
    {
      "cell_type": "markdown",
      "source": [
        "\n",
        "\n",
        "In order to analyze our dataset, we chose to use the GEE platform for the preprocessing and extraction of data namely: NDVI, LST and Thermal Anomalies. Then we saved the data as a CSV file in Google Drive "
      ],
      "metadata": {
        "id": "vnvHF6rsqxnv"
      }
    },
    {
      "cell_type": "markdown",
      "source": [
        "##  1: Dataset description "
      ],
      "metadata": {
        "id": "Se1FBEpVjJID"
      }
    },
    {
      "cell_type": "markdown",
      "metadata": {
        "id": "Yb4H7lEgqeSz"
      },
      "source": [
        "\n",
        "Our dataset is composed of 1713 samples: 1327 instances of the class \"no_fire\" and 386 instances of the class \"fire\".\n",
        "\n"
      ]
    },
    {
      "cell_type": "markdown",
      "source": [
        "## 2: Importing the necessary libraries"
      ],
      "metadata": {
        "id": "4ECDrWbjrbey"
      }
    },
    {
      "cell_type": "code",
      "execution_count": null,
      "metadata": {
        "colab": {
          "base_uri": "https://localhost:8080/"
        },
        "id": "M-tC5Hxr7axR",
        "outputId": "a26c8afd-ec9f-4003-ae8e-3970bb5953ee"
      },
      "outputs": [
        {
          "output_type": "stream",
          "name": "stdout",
          "text": [
            "Using pip 21.1.3 from /usr/local/lib/python3.7/dist-packages/pip (python 3.7)\n",
            "Value for scheme.platlib does not match. Please report this to <https://github.com/pypa/pip/issues/9617>\n",
            "distutils: /usr/local/lib/python3.7/dist-packages\n",
            "sysconfig: /usr/lib/python3.7/site-packages\n",
            "Value for scheme.purelib does not match. Please report this to <https://github.com/pypa/pip/issues/9617>\n",
            "distutils: /usr/local/lib/python3.7/dist-packages\n",
            "sysconfig: /usr/lib/python3.7/site-packages\n",
            "Value for scheme.headers does not match. Please report this to <https://github.com/pypa/pip/issues/9617>\n",
            "distutils: /usr/local/include/python3.7/UNKNOWN\n",
            "sysconfig: /usr/include/python3.7m/UNKNOWN\n",
            "Value for scheme.scripts does not match. Please report this to <https://github.com/pypa/pip/issues/9617>\n",
            "distutils: /usr/local/bin\n",
            "sysconfig: /usr/bin\n",
            "Value for scheme.data does not match. Please report this to <https://github.com/pypa/pip/issues/9617>\n",
            "distutils: /usr/local\n",
            "sysconfig: /usr\n",
            "Additional context:\n",
            "user = False\n",
            "home = None\n",
            "root = None\n",
            "prefix = None\n",
            "Non-user install because site-packages writeable\n",
            "Created temporary directory: /tmp/pip-ephem-wheel-cache-cmzvu6tu\n",
            "Created temporary directory: /tmp/pip-req-tracker-lc4qi00c\n",
            "Initialized build tracking at /tmp/pip-req-tracker-lc4qi00c\n",
            "Created build tracker: /tmp/pip-req-tracker-lc4qi00c\n",
            "Entered build tracker: /tmp/pip-req-tracker-lc4qi00c\n",
            "Created temporary directory: /tmp/pip-install-eoro6sxm\n",
            "Looking in indexes: https://pypi.org/simple, https://us-python.pkg.dev/colab-wheels/public/simple/\n",
            "Requirement already satisfied: rgf_python in /usr/local/lib/python3.7/dist-packages (3.12.0)\n",
            "2 location(s) to search for versions of rgf-python:\n",
            "* https://pypi.org/simple/rgf-python/\n",
            "* https://us-python.pkg.dev/colab-wheels/public/simple/rgf-python/\n",
            "Fetching project page and analyzing links: https://pypi.org/simple/rgf-python/\n",
            "Getting page https://pypi.org/simple/rgf-python/\n",
            "Found index url https://pypi.org/simple\n",
            "Looking up \"https://pypi.org/simple/rgf-python/\" in the cache\n",
            "Request header has \"max_age\" as 0, cache bypassed\n",
            "Starting new HTTPS connection (1): pypi.org:443\n",
            "https://pypi.org:443 \"GET /simple/rgf-python/ HTTP/1.1\" 304 0\n",
            "  Found link https://files.pythonhosted.org/packages/38/b9/cccb61463017359d3d725ee84d4900b5f90f4ed60e4b9946bd084161f986/rgf_python-1.2.0.tar.gz#sha256=a029c6a5bad9391cf3e2c0b9a5cf98c6e34a760de4774460be81d92e1dd853a9 (from https://pypi.org/simple/rgf-python/), version: 1.2.0\n",
            "  Found link https://files.pythonhosted.org/packages/a8/82/620c00f985bf37e8a500f8d55d9dbae5fbd0a457e1032d3bb9678b0681a5/rgf_python-1.2.1.tar.gz#sha256=e168687745424520c73cc614557a44f0bb09678374b15f1448a4d0f77280a918 (from https://pypi.org/simple/rgf-python/), version: 1.2.1\n",
            "  Found link https://files.pythonhosted.org/packages/f1/d5/216df0c9d30b2126dd658547d1ec0f6f1b883202d50298c270f95645e1c1/rgf_python-1.2.2.tar.gz#sha256=56609b18c3d0fc5c01c9044770b0f075d10436d1c796df50ed06888a573688c4 (from https://pypi.org/simple/rgf-python/), version: 1.2.2\n",
            "  Found link https://files.pythonhosted.org/packages/c6/64/324ad7f9b043e6094e548773dccb10fc363bf920a99fd1d7da93be0f3a4f/rgf_python-1.2.3.tar.gz#sha256=2125ff16890ac93d9181c9f4b0b701c7b12de05a8df53aa4b7daa5c883d2c5f7 (from https://pypi.org/simple/rgf-python/), version: 1.2.3\n",
            "  Found link https://files.pythonhosted.org/packages/19/87/b1c5c72c589059b89c397092ab6bb3105e499982274ae7d6e5e53d01c5a3/rgf_python-1.2.5.tar.gz#sha256=4156040e8db8a16c397518f4dbb78f5a309b9c964355ed3f4362d4a0fdf11583 (from https://pypi.org/simple/rgf-python/), version: 1.2.5\n",
            "  Found link https://files.pythonhosted.org/packages/8f/5f/81730e1aeaa54e6038902d7b0b464ffcd6fe8dfbdad93b9d010deef65a59/rgf_python-1.3.0.tar.gz#sha256=43d6edf700eaa720340f2aa78a8e9c7ea0468eb0df99bcd82a1c2d74e940dc85 (from https://pypi.org/simple/rgf-python/), version: 1.3.0\n",
            "  Found link https://files.pythonhosted.org/packages/e2/36/767ad3555af45f69171bfd1d997ab1054871e61aff6b76a900765eb7dec2/rgf_python-1.3.1.tar.gz#sha256=7ff3738cb08356a055ccaa395c453d35088dfe61ca2b5f02e82da9fbea5439f1 (from https://pypi.org/simple/rgf-python/), version: 1.3.1\n",
            "  Found link https://files.pythonhosted.org/packages/3a/4d/e4a7d32aad0400ace51a8005505fd5f0a1ce4e45199899989ea7a65e2c47/rgf_python-2.0.0.tar.gz#sha256=e40bf5cd76fe1515e5f0a7ea7fcdb5a9505405d5626b177ec8d21826313f81dc (from https://pypi.org/simple/rgf-python/), version: 2.0.0\n",
            "  Found link https://files.pythonhosted.org/packages/70/e7/00446a94b5f4ab1d56554152dbc3e6d13fe611ab9b9c51ef6bc7a0ff8b61/rgf_python-2.0.1.tar.gz#sha256=bd4f73a142680e719c3be80375ba0447064c6e1e067a0a35de01ed2e042dc9ef (from https://pypi.org/simple/rgf-python/), version: 2.0.1\n",
            "  Found link https://files.pythonhosted.org/packages/7b/88/18be049ac6ffbb368affa964c00089818c561a58c049b577e75385e1995f/rgf_python-2.0.2.tar.gz#sha256=ce527ec6501b29bfd97ae4156aeeebf450230aa37d84a773af6642a1c68dde41 (from https://pypi.org/simple/rgf-python/), version: 2.0.2\n",
            "  Found link https://files.pythonhosted.org/packages/cf/27/515562eab19e8d001596652f8b6a48c97580b94cdae956cccca9abe095de/rgf_python-2.0.3.tar.gz#sha256=40d0e79652bd99cd075b653693467e711e78e7319872c089b9ffcdf387156e22 (from https://pypi.org/simple/rgf-python/), version: 2.0.3\n",
            "  Found link https://files.pythonhosted.org/packages/1c/de/3409d5ecd095fb628aaf84927cada5248f06edba214ab549bc6bb45a495a/rgf_python-2.1.0.tar.gz#sha256=dcd086e0a116e3a7b786360ad00c33e0276896802329c384908986337d62ac8b (from https://pypi.org/simple/rgf-python/), version: 2.1.0\n",
            "  Skipping link: none of the wheel's tags (py2-none-macosx_10_10_x86_64, py2-none-macosx_10_11_x86_64, py2-none-macosx_10_12_x86_64, py2-none-macosx_10_13_x86_64, py2-none-macosx_10_6_x86_64, py2-none-macosx_10_7_x86_64, py2-none-macosx_10_8_x86_64, py2-none-macosx_10_9_x86_64, py3-none-macosx_10_10_x86_64, py3-none-macosx_10_11_x86_64, py3-none-macosx_10_12_x86_64, py3-none-macosx_10_13_x86_64, py3-none-macosx_10_6_x86_64, py3-none-macosx_10_7_x86_64, py3-none-macosx_10_8_x86_64, py3-none-macosx_10_9_x86_64) are compatible (run pip debug --verbose to show compatible tags): https://files.pythonhosted.org/packages/27/1c/af21c48dcb0c2aa25e3537d110f56eaa2cfa30ef33d35112951dcb29a77d/rgf_python-2.1.2-py2.py3-none-macosx_10_6_x86_64.macosx_10_7_x86_64.macosx_10_8_x86_64.macosx_10_9_x86_64.macosx_10_10_x86_64.macosx_10_11_x86_64.macosx_10_12_x86_64.macosx_10_13_x86_64.whl#sha256=f5c341e6cdb6457c645a8903c1853864e6bf2a41f49be34864b5d8b463e61f4a (from https://pypi.org/simple/rgf-python/)\n",
            "  Skipping link: none of the wheel's tags (py2-none-manylinux1_i686, py3-none-manylinux1_i686) are compatible (run pip debug --verbose to show compatible tags): https://files.pythonhosted.org/packages/8a/62/1862aa41399970d273d50fa19996969a298e1ca0d58cab94b9eccd439292/rgf_python-2.1.2-py2.py3-none-manylinux1_i686.whl#sha256=fad54ab32641a0a274517e0775459f0811e2debffd8c47ee6b785cb81fc9af53 (from https://pypi.org/simple/rgf-python/)\n",
            "  Found link https://files.pythonhosted.org/packages/d8/0d/e409a98d86c20efd171d07c3841c2a64e276996d8c0844096d043f8a89e7/rgf_python-2.1.2-py2.py3-none-manylinux1_x86_64.whl#sha256=e2b0e074889815fb9cf2b4412c375254492ebb74311569dfe7370b7419991f73 (from https://pypi.org/simple/rgf-python/), version: 2.1.2\n",
            "  Skipping link: none of the wheel's tags (py2-none-win32, py3-none-win32) are compatible (run pip debug --verbose to show compatible tags): https://files.pythonhosted.org/packages/98/ea/07ea0cd3d07b4a32fc94f2d4b734bc4d195e21b28cd1fbdee44c6d1f355f/rgf_python-2.1.2-py2.py3-none-win32.whl#sha256=52982ae01d775b37829891c4725b9f50a298fe780e51261f51ef9cc1309319d4 (from https://pypi.org/simple/rgf-python/)\n",
            "  Skipping link: none of the wheel's tags (py2-none-win_amd64, py3-none-win_amd64) are compatible (run pip debug --verbose to show compatible tags): https://files.pythonhosted.org/packages/cb/83/e095b828f497460428becd30c307b1b29218360867cf729a8368948058f1/rgf_python-2.1.2-py2.py3-none-win_amd64.whl#sha256=c83f54c40e7ee5928227fb0cd6240e651a88ae8e91aee2ae9e287a941d1b9227 (from https://pypi.org/simple/rgf-python/)\n",
            "  Found link https://files.pythonhosted.org/packages/07/8e/a88bd589bef0843180a9c7254b0ce465ea2342d7840c3881e2134b7d40df/rgf_python-2.1.2.tar.gz#sha256=5ba150e00a166121c80e4e35ae5e573e082231cf2f5b772b1e8a7478d7bbfede (from https://pypi.org/simple/rgf-python/), version: 2.1.2\n",
            "  Skipping link: none of the wheel's tags (py2-none-macosx_10_10_x86_64, py2-none-macosx_10_11_x86_64, py2-none-macosx_10_12_x86_64, py2-none-macosx_10_13_x86_64, py2-none-macosx_10_6_x86_64, py2-none-macosx_10_7_x86_64, py2-none-macosx_10_8_x86_64, py2-none-macosx_10_9_x86_64, py3-none-macosx_10_10_x86_64, py3-none-macosx_10_11_x86_64, py3-none-macosx_10_12_x86_64, py3-none-macosx_10_13_x86_64, py3-none-macosx_10_6_x86_64, py3-none-macosx_10_7_x86_64, py3-none-macosx_10_8_x86_64, py3-none-macosx_10_9_x86_64) are compatible (run pip debug --verbose to show compatible tags): https://files.pythonhosted.org/packages/fe/6e/77ed62c5d01b4e365652dbfb42e5a638af1f927f92c77cc0408443e3fedd/rgf_python-2.2.0-py2.py3-none-macosx_10_6_x86_64.macosx_10_7_x86_64.macosx_10_8_x86_64.macosx_10_9_x86_64.macosx_10_10_x86_64.macosx_10_11_x86_64.macosx_10_12_x86_64.macosx_10_13_x86_64.whl#sha256=92d93dcb915c03f32e6a81011483569a39dada25e51f619555699c5eb294b6d8 (from https://pypi.org/simple/rgf-python/)\n",
            "  Skipping link: none of the wheel's tags (py2-none-manylinux1_i686, py3-none-manylinux1_i686) are compatible (run pip debug --verbose to show compatible tags): https://files.pythonhosted.org/packages/39/95/7db1cf6097899c62c98b39437eba5713942ecaf11c4254a67d868afef928/rgf_python-2.2.0-py2.py3-none-manylinux1_i686.whl#sha256=cb3a7db0961a8db7f77a42f42605b702e0a8e142c8f90396862e69892d1c81e7 (from https://pypi.org/simple/rgf-python/)\n",
            "  Found link https://files.pythonhosted.org/packages/8d/1b/2cfa4fb5d45cf532c289e6d84cf2d5c5848016245ddcc7d21154c6b3989a/rgf_python-2.2.0-py2.py3-none-manylinux1_x86_64.whl#sha256=7a8672fe97417b26844629c21926339062a8c9a20622b1e9f911790c744500a6 (from https://pypi.org/simple/rgf-python/), version: 2.2.0\n",
            "  Skipping link: none of the wheel's tags (py2-none-win32, py3-none-win32) are compatible (run pip debug --verbose to show compatible tags): https://files.pythonhosted.org/packages/50/9e/5465dd83facaaeedf09b06feec5167276cb0a9361e6c8e9bf5e28e73130c/rgf_python-2.2.0-py2.py3-none-win32.whl#sha256=224a20cacbda901c3a9542975bea2c0b8784aa7ae0de78e357cef87ec375f96f (from https://pypi.org/simple/rgf-python/)\n",
            "  Skipping link: none of the wheel's tags (py2-none-win_amd64, py3-none-win_amd64) are compatible (run pip debug --verbose to show compatible tags): https://files.pythonhosted.org/packages/cb/4d/0b4504e73f59f239bee317762944ffe077b078dbb57aa17aa178ef67d5b2/rgf_python-2.2.0-py2.py3-none-win_amd64.whl#sha256=bc60da4e0b299fce98b62fe255bc8390787993e56a124796ac59500e1312ad3e (from https://pypi.org/simple/rgf-python/)\n",
            "  Found link https://files.pythonhosted.org/packages/0c/28/b7282f39d0b811aa0857aace516c681cbab03a885cc66e6afefb04ed8d36/rgf_python-2.2.0.tar.gz#sha256=b9dec479a177277c08bb511515bf1bc299e29ba21063f754480c41e6eb8ac4a7 (from https://pypi.org/simple/rgf-python/), version: 2.2.0\n",
            "  Skipping link: none of the wheel's tags (py2-none-macosx_10_10_x86_64, py2-none-macosx_10_11_x86_64, py2-none-macosx_10_12_x86_64, py2-none-macosx_10_13_x86_64, py2-none-macosx_10_6_x86_64, py2-none-macosx_10_7_x86_64, py2-none-macosx_10_8_x86_64, py2-none-macosx_10_9_x86_64, py3-none-macosx_10_10_x86_64, py3-none-macosx_10_11_x86_64, py3-none-macosx_10_12_x86_64, py3-none-macosx_10_13_x86_64, py3-none-macosx_10_6_x86_64, py3-none-macosx_10_7_x86_64, py3-none-macosx_10_8_x86_64, py3-none-macosx_10_9_x86_64) are compatible (run pip debug --verbose to show compatible tags): https://files.pythonhosted.org/packages/d4/ba/93a63d7777fc03048e0c3200eb6063daef934b47fd6057b14ff3e357de98/rgf_python-2.3.0-py2.py3-none-macosx_10_6_x86_64.macosx_10_7_x86_64.macosx_10_8_x86_64.macosx_10_9_x86_64.macosx_10_10_x86_64.macosx_10_11_x86_64.macosx_10_12_x86_64.macosx_10_13_x86_64.whl#sha256=7a7e09161ddb5caeac4e2e2bcd79b4f2c3068a2d77781fb1986e8defeeaae9ce (from https://pypi.org/simple/rgf-python/)\n",
            "  Skipping link: none of the wheel's tags (py2-none-manylinux1_i686, py3-none-manylinux1_i686) are compatible (run pip debug --verbose to show compatible tags): https://files.pythonhosted.org/packages/25/ab/335fa23bc031c10d1dab0e678cd0d8e6f2da78609b0de70f7d57b7c10405/rgf_python-2.3.0-py2.py3-none-manylinux1_i686.whl#sha256=3e2e01ab24f8a24be9289c3bbbc47ba5324b7dc3559968e9c1d776ed163b22d3 (from https://pypi.org/simple/rgf-python/)\n",
            "  Found link https://files.pythonhosted.org/packages/6e/9a/5a7c608201b45f32e172cd77c1c1e2a5c1162808cb1d4151b4c0d0085403/rgf_python-2.3.0-py2.py3-none-manylinux1_x86_64.whl#sha256=9568618ffd5c46454f6750bd362fbf2022662726ba91fc043cb8e2d1796d28ad (from https://pypi.org/simple/rgf-python/), version: 2.3.0\n",
            "  Skipping link: none of the wheel's tags (py2-none-win32, py3-none-win32) are compatible (run pip debug --verbose to show compatible tags): https://files.pythonhosted.org/packages/87/89/d1e37f86f9fc0d8993670f0cb29212b159ed2fbc3c2ce731a229de35cdbc/rgf_python-2.3.0-py2.py3-none-win32.whl#sha256=381a0d293df96a8207db3c4403161983e22f4734d010273a31a60ac095d05396 (from https://pypi.org/simple/rgf-python/)\n",
            "  Skipping link: none of the wheel's tags (py2-none-win_amd64, py3-none-win_amd64) are compatible (run pip debug --verbose to show compatible tags): https://files.pythonhosted.org/packages/1d/5b/9f37c9e5be8210c06c48621ee5100c2d62144e1043f474ec0598b2cd62d4/rgf_python-2.3.0-py2.py3-none-win_amd64.whl#sha256=810dddc9d57f0168babcf3baf42ef02ce70c7a0e618a4a5bebf26638de70a42e (from https://pypi.org/simple/rgf-python/)\n",
            "  Found link https://files.pythonhosted.org/packages/c5/d7/633d28ac0b98deb21ee92780e292026e684cd0ae7a22e2a88cac5caa8480/rgf_python-2.3.0.tar.gz#sha256=d9b83e79e38d5e50e313d3cea27af989a1f96cbb9176c4067e71aebbb77181a2 (from https://pypi.org/simple/rgf-python/), version: 2.3.0\n",
            "  Skipping link: none of the wheel's tags (py2-none-macosx_10_10_x86_64, py2-none-macosx_10_11_x86_64, py2-none-macosx_10_12_x86_64, py2-none-macosx_10_13_x86_64, py2-none-macosx_10_6_x86_64, py2-none-macosx_10_7_x86_64, py2-none-macosx_10_8_x86_64, py2-none-macosx_10_9_x86_64, py3-none-macosx_10_10_x86_64, py3-none-macosx_10_11_x86_64, py3-none-macosx_10_12_x86_64, py3-none-macosx_10_13_x86_64, py3-none-macosx_10_6_x86_64, py3-none-macosx_10_7_x86_64, py3-none-macosx_10_8_x86_64, py3-none-macosx_10_9_x86_64) are compatible (run pip debug --verbose to show compatible tags): https://files.pythonhosted.org/packages/fc/74/bae2bad70302916f10954f6a0698f9dd4550b8adc10eecd30c79b3334fca/rgf_python-3.0.0-py2.py3-none-macosx_10_6_x86_64.macosx_10_7_x86_64.macosx_10_8_x86_64.macosx_10_9_x86_64.macosx_10_10_x86_64.macosx_10_11_x86_64.macosx_10_12_x86_64.macosx_10_13_x86_64.whl#sha256=42b4a9454facf6b2caa2f113765eed2e905c5cac70e8c9307c5b071a67b7bd40 (from https://pypi.org/simple/rgf-python/)\n",
            "  Skipping link: none of the wheel's tags (py2-none-manylinux1_i686, py3-none-manylinux1_i686) are compatible (run pip debug --verbose to show compatible tags): https://files.pythonhosted.org/packages/61/ee/d8e917ebe9b9c15e0034d17af8aff82f0afb476d2c2c97a92a45b26d6152/rgf_python-3.0.0-py2.py3-none-manylinux1_i686.whl#sha256=b7c2bad1e28ca129f40d9410d09e0a332d4f5c0c5efde7a0442afe79b9a02641 (from https://pypi.org/simple/rgf-python/)\n",
            "  Found link https://files.pythonhosted.org/packages/e9/68/d0fddc3068c9b973bed1f5f8a4f0a9b25248d133685183d5235315d0d085/rgf_python-3.0.0-py2.py3-none-manylinux1_x86_64.whl#sha256=5b68c9b9de491fe975887617340f2dd28781a69bbdecdaaf9c0a563718877241 (from https://pypi.org/simple/rgf-python/), version: 3.0.0\n",
            "  Skipping link: none of the wheel's tags (py2-none-win32, py3-none-win32) are compatible (run pip debug --verbose to show compatible tags): https://files.pythonhosted.org/packages/59/70/d9b5ce24c4a0a3923d95df38000b213c5e29b95601a20b8de87f69f4c582/rgf_python-3.0.0-py2.py3-none-win32.whl#sha256=2bd5f871e386ec72c13fc1e8273f17ef5972a2402b08a2f4e675cf31a0151964 (from https://pypi.org/simple/rgf-python/)\n",
            "  Skipping link: none of the wheel's tags (py2-none-win_amd64, py3-none-win_amd64) are compatible (run pip debug --verbose to show compatible tags): https://files.pythonhosted.org/packages/b5/09/75d7fa21efe3298da8613192e740265d3c526bff5b45631c2bb64d66f6e1/rgf_python-3.0.0-py2.py3-none-win_amd64.whl#sha256=faf3f6ab043ae9186b13505f5e629c06f5739d56f4237cb44d4f4884da39802f (from https://pypi.org/simple/rgf-python/)\n",
            "  Found link https://files.pythonhosted.org/packages/49/3f/5e72ad095c44a80f9878f34e62c4a6d541aa36772453b3c06c66a3bb8c77/rgf_python-3.0.0.tar.gz#sha256=f82bf4b429787bcf0f19e60a90f9e1faadf9e984d24c961098bd68a9f1ae9351 (from https://pypi.org/simple/rgf-python/), version: 3.0.0\n",
            "  Skipping link: none of the wheel's tags (py2-none-macosx_10_10_x86_64, py2-none-macosx_10_11_x86_64, py2-none-macosx_10_12_x86_64, py2-none-macosx_10_13_x86_64, py2-none-macosx_10_6_x86_64, py2-none-macosx_10_7_x86_64, py2-none-macosx_10_8_x86_64, py2-none-macosx_10_9_x86_64, py3-none-macosx_10_10_x86_64, py3-none-macosx_10_11_x86_64, py3-none-macosx_10_12_x86_64, py3-none-macosx_10_13_x86_64, py3-none-macosx_10_6_x86_64, py3-none-macosx_10_7_x86_64, py3-none-macosx_10_8_x86_64, py3-none-macosx_10_9_x86_64) are compatible (run pip debug --verbose to show compatible tags): https://files.pythonhosted.org/packages/52/1a/b9dee7540ee1da9be3a4c5008f2c57b45b4585bb20e2bdce0834787d8043/rgf_python-3.1.0-py2.py3-none-macosx_10_6_x86_64.macosx_10_7_x86_64.macosx_10_8_x86_64.macosx_10_9_x86_64.macosx_10_10_x86_64.macosx_10_11_x86_64.macosx_10_12_x86_64.macosx_10_13_x86_64.whl#sha256=d1c0163303b1ff773786d69e613d5bc99bc1cf364d2af6bea6f6075ee4bfdb1b (from https://pypi.org/simple/rgf-python/)\n",
            "  Skipping link: none of the wheel's tags (py2-none-manylinux1_i686, py3-none-manylinux1_i686) are compatible (run pip debug --verbose to show compatible tags): https://files.pythonhosted.org/packages/7f/9b/f488ff1547129261bc5e8c248c4813c6b3f30d1b0696829c838f20223cb4/rgf_python-3.1.0-py2.py3-none-manylinux1_i686.whl#sha256=ceba72ba952211210ce486ddfb42130fa2eb4a19bb5d707f404f29ba0dc590eb (from https://pypi.org/simple/rgf-python/)\n",
            "  Found link https://files.pythonhosted.org/packages/33/c4/7c73917d9a250f1d476b7f585e6b8955179e916f8410ed8f77418665aabf/rgf_python-3.1.0-py2.py3-none-manylinux1_x86_64.whl#sha256=23f525d874772da297cddef9fb664de18f9727c4b9a55a9f8ff4ab3f18ab2475 (from https://pypi.org/simple/rgf-python/), version: 3.1.0\n",
            "  Skipping link: none of the wheel's tags (py2-none-win32, py3-none-win32) are compatible (run pip debug --verbose to show compatible tags): https://files.pythonhosted.org/packages/7b/13/2460bc545d347aa6d9e5c8b87a49771812b3b8cb288e8cb401f1b881ada9/rgf_python-3.1.0-py2.py3-none-win32.whl#sha256=d8260578b36d546d44976fd0b4662d482bccf7e868cc254dc0e82eb08310d616 (from https://pypi.org/simple/rgf-python/)\n",
            "  Skipping link: none of the wheel's tags (py2-none-win_amd64, py3-none-win_amd64) are compatible (run pip debug --verbose to show compatible tags): https://files.pythonhosted.org/packages/15/5e/9a96a8ff4da1a68935b32ffc8a1a7d8ebcff9ee999a4668ef7deeb326b2a/rgf_python-3.1.0-py2.py3-none-win_amd64.whl#sha256=32bc342444340fcf8d6119f140d6d0b946b0f9ea60d05f11a35bf4cd80bd6fe1 (from https://pypi.org/simple/rgf-python/)\n",
            "  Found link https://files.pythonhosted.org/packages/ae/22/ad7e7d0ff9304d757170e62403e792334ee432b43c6a246a14830b5e1a54/rgf_python-3.1.0.tar.gz#sha256=811c6d78dc6056884f3d225459a77195689bfb963c4cce42c2b5e060dde39826 (from https://pypi.org/simple/rgf-python/), version: 3.1.0\n",
            "  Skipping link: none of the wheel's tags (py2-none-macosx_10_10_x86_64, py2-none-macosx_10_11_x86_64, py2-none-macosx_10_12_x86_64, py2-none-macosx_10_13_x86_64, py2-none-macosx_10_6_x86_64, py2-none-macosx_10_7_x86_64, py2-none-macosx_10_8_x86_64, py2-none-macosx_10_9_x86_64, py3-none-macosx_10_10_x86_64, py3-none-macosx_10_11_x86_64, py3-none-macosx_10_12_x86_64, py3-none-macosx_10_13_x86_64, py3-none-macosx_10_6_x86_64, py3-none-macosx_10_7_x86_64, py3-none-macosx_10_8_x86_64, py3-none-macosx_10_9_x86_64) are compatible (run pip debug --verbose to show compatible tags): https://files.pythonhosted.org/packages/48/47/5468d6c7c636c3614a5ea6ae717596f65094b9845c9cd037cf2e7f403f05/rgf_python-3.2.0-py2.py3-none-macosx_10_6_x86_64.macosx_10_7_x86_64.macosx_10_8_x86_64.macosx_10_9_x86_64.macosx_10_10_x86_64.macosx_10_11_x86_64.macosx_10_12_x86_64.macosx_10_13_x86_64.whl#sha256=e3548997362562bc8e208dec31b90cbea42697b4d5f5bdcc52f62c604aa59f7e (from https://pypi.org/simple/rgf-python/)\n",
            "  Skipping link: none of the wheel's tags (py2-none-manylinux1_i686, py3-none-manylinux1_i686) are compatible (run pip debug --verbose to show compatible tags): https://files.pythonhosted.org/packages/24/4d/015b4d8e8d0f673880921778b98155548e017e439ce778c0a3b7c070b573/rgf_python-3.2.0-py2.py3-none-manylinux1_i686.whl#sha256=c14e55c8d40fed6d5f4526bff2cd7b8597780c3ea62d942c2f8f7d7b1d40f3a7 (from https://pypi.org/simple/rgf-python/)\n",
            "  Found link https://files.pythonhosted.org/packages/fe/d1/4dec9c38a61ac6eb159fe5161b9e6f54a9255d2f0585f9f0ca9b31d0bf71/rgf_python-3.2.0-py2.py3-none-manylinux1_x86_64.whl#sha256=0995ab3038054b611b4fa97d2bdb87aac4a59310a0fb6b86b5e500beb9e94da1 (from https://pypi.org/simple/rgf-python/), version: 3.2.0\n",
            "  Skipping link: none of the wheel's tags (py2-none-win32, py3-none-win32) are compatible (run pip debug --verbose to show compatible tags): https://files.pythonhosted.org/packages/00/fc/bf212db2a1235b993f11dae289115180e2dcb023715adff2674bac85792d/rgf_python-3.2.0-py2.py3-none-win32.whl#sha256=35281bdffb527234fed60944dd39a6219e2d29951ddc005be8267fe6d0054bd9 (from https://pypi.org/simple/rgf-python/)\n",
            "  Skipping link: none of the wheel's tags (py2-none-win_amd64, py3-none-win_amd64) are compatible (run pip debug --verbose to show compatible tags): https://files.pythonhosted.org/packages/c8/ba/eaddd7d4afa2e2cf7ac08595be70853b99e312f2b8d02a339de4e60b83d4/rgf_python-3.2.0-py2.py3-none-win_amd64.whl#sha256=9f6f70286f868d6a0ab31ee4b8a429b7664f3fbc01a999267af43688ec1cff66 (from https://pypi.org/simple/rgf-python/)\n",
            "  Found link https://files.pythonhosted.org/packages/f4/b9/d25a51f0a51d07d6d9d0d67f9ffeb1a057bc2113e281573c8160ce45b7ea/rgf_python-3.2.0.tar.gz#sha256=9a9f497c3e3f558257af20c43e00738d84969fa646780d5dc0fea43e5192ebb8 (from https://pypi.org/simple/rgf-python/), version: 3.2.0\n",
            "  Skipping link: none of the wheel's tags (py2-none-macosx_10_10_x86_64, py2-none-macosx_10_11_x86_64, py2-none-macosx_10_12_x86_64, py2-none-macosx_10_13_x86_64, py2-none-macosx_10_6_x86_64, py2-none-macosx_10_7_x86_64, py2-none-macosx_10_8_x86_64, py2-none-macosx_10_9_x86_64, py3-none-macosx_10_10_x86_64, py3-none-macosx_10_11_x86_64, py3-none-macosx_10_12_x86_64, py3-none-macosx_10_13_x86_64, py3-none-macosx_10_6_x86_64, py3-none-macosx_10_7_x86_64, py3-none-macosx_10_8_x86_64, py3-none-macosx_10_9_x86_64) are compatible (run pip debug --verbose to show compatible tags): https://files.pythonhosted.org/packages/e5/e4/57088e1fbd717d85a15bb431e9ce461640f9ebf7eca5c1944546d65c8f3d/rgf_python-3.3.0-py2.py3-none-macosx_10_6_x86_64.macosx_10_7_x86_64.macosx_10_8_x86_64.macosx_10_9_x86_64.macosx_10_10_x86_64.macosx_10_11_x86_64.macosx_10_12_x86_64.macosx_10_13_x86_64.whl#sha256=bcbf2f60b118da9f0ad06c372d61a2447734d8f6c7155b35e9ebec9ebd09c871 (from https://pypi.org/simple/rgf-python/)\n",
            "  Skipping link: none of the wheel's tags (py2-none-manylinux1_i686, py3-none-manylinux1_i686) are compatible (run pip debug --verbose to show compatible tags): https://files.pythonhosted.org/packages/1a/d9/0cb591531e9d2aacfb72a54fc6e9c097f4e861865e288c2e46e4d4836524/rgf_python-3.3.0-py2.py3-none-manylinux1_i686.whl#sha256=aa35a91dd287efaaca86a30dc6aa7d180ad54330c4075edaeda6cb792464eead (from https://pypi.org/simple/rgf-python/)\n",
            "  Found link https://files.pythonhosted.org/packages/b4/b4/bb6ba5695d41494bc4b145f1efcffbbce78946456ed6e8cb74c17b46b511/rgf_python-3.3.0-py2.py3-none-manylinux1_x86_64.whl#sha256=e0640fe0767925857eaa9b827e13625849b35d4833c5dbf58cf3e433dba237f1 (from https://pypi.org/simple/rgf-python/), version: 3.3.0\n",
            "  Skipping link: none of the wheel's tags (py2-none-win32, py3-none-win32) are compatible (run pip debug --verbose to show compatible tags): https://files.pythonhosted.org/packages/a7/b2/cc7a23b3f40394a2a6fb4ffaa06ca6fb82fc16c6983bd29e344f1b7d78d8/rgf_python-3.3.0-py2.py3-none-win32.whl#sha256=88598820bf6218a4126560fc40be5fe025e76ee513ee7efc8f1aa177514c511b (from https://pypi.org/simple/rgf-python/)\n",
            "  Skipping link: none of the wheel's tags (py2-none-win_amd64, py3-none-win_amd64) are compatible (run pip debug --verbose to show compatible tags): https://files.pythonhosted.org/packages/0f/d9/f3cee0162c6dc3d24989e7966998e081c92b4e0b550b6a2a45baaef53729/rgf_python-3.3.0-py2.py3-none-win_amd64.whl#sha256=f437ffe3175a94a3947d9605103ea0ba5952b3dfc8fc5feecf9fb61030aecf6d (from https://pypi.org/simple/rgf-python/)\n",
            "  Found link https://files.pythonhosted.org/packages/1e/55/2e09803c30b79b96b30d5ed1038de75e7b642a054f724aa258c2e2c1b963/rgf_python-3.3.0.tar.gz#sha256=7cae6e2153cdb98364b9b79e0fe691123bc0d2dd6aa33e231c64cac8d6d36734 (from https://pypi.org/simple/rgf-python/), version: 3.3.0\n",
            "  Skipping link: none of the wheel's tags (py2-none-macosx_10_10_x86_64, py2-none-macosx_10_11_x86_64, py2-none-macosx_10_12_x86_64, py2-none-macosx_10_13_x86_64, py2-none-macosx_10_14_x86_64, py2-none-macosx_10_6_x86_64, py2-none-macosx_10_7_x86_64, py2-none-macosx_10_8_x86_64, py2-none-macosx_10_9_x86_64, py3-none-macosx_10_10_x86_64, py3-none-macosx_10_11_x86_64, py3-none-macosx_10_12_x86_64, py3-none-macosx_10_13_x86_64, py3-none-macosx_10_14_x86_64, py3-none-macosx_10_6_x86_64, py3-none-macosx_10_7_x86_64, py3-none-macosx_10_8_x86_64, py3-none-macosx_10_9_x86_64) are compatible (run pip debug --verbose to show compatible tags): https://files.pythonhosted.org/packages/0a/20/f4a41716d768641098b5dcf606dc53de6deff67df741515f186bc91030a8/rgf_python-3.4.0-py2.py3-none-macosx_10_6_x86_64.macosx_10_7_x86_64.macosx_10_8_x86_64.macosx_10_9_x86_64.macosx_10_10_x86_64.macosx_10_11_x86_64.macosx_10_12_x86_64.macosx_10_13_x86_64.macosx_10_14_x86_64.whl#sha256=9056cd0e0c1f0beb488dee8ea8675f109a64cfa9e229cb7fabb3c68a651ac946 (from https://pypi.org/simple/rgf-python/)\n",
            "  Skipping link: none of the wheel's tags (py2-none-manylinux1_i686, py3-none-manylinux1_i686) are compatible (run pip debug --verbose to show compatible tags): https://files.pythonhosted.org/packages/85/5e/58401eed977a4a6327fa2ed901f7c524b03898a473dec4533cc34cfce4f1/rgf_python-3.4.0-py2.py3-none-manylinux1_i686.whl#sha256=18ac51ec04df5e924cd0d7d30a0f907fc8de0dba60436f5fa43a137271f18b8a (from https://pypi.org/simple/rgf-python/)\n",
            "  Found link https://files.pythonhosted.org/packages/34/1f/ff796d528b5d6a7cb745fc0ac0bb5784c154ade62a3358f0be08a009e0ec/rgf_python-3.4.0-py2.py3-none-manylinux1_x86_64.whl#sha256=72b05a5b0c848191a70030cf9210ae2f234ae074d5c776c27977884b1ddca434 (from https://pypi.org/simple/rgf-python/), version: 3.4.0\n",
            "  Skipping link: none of the wheel's tags (py2-none-win32, py3-none-win32) are compatible (run pip debug --verbose to show compatible tags): https://files.pythonhosted.org/packages/15/8b/28cbab179a42974b74d95e1794f68645ebb793f8bb39bcc1037ff413bafe/rgf_python-3.4.0-py2.py3-none-win32.whl#sha256=3c471fe405ce3b375ca8cfbdc714f661375408308532737febdbd0853818c060 (from https://pypi.org/simple/rgf-python/)\n",
            "  Skipping link: none of the wheel's tags (py2-none-win_amd64, py3-none-win_amd64) are compatible (run pip debug --verbose to show compatible tags): https://files.pythonhosted.org/packages/bf/f7/ca6f8ea8c1d4b36be04527235b53e0666b6d239fca57343c2c2ff2763203/rgf_python-3.4.0-py2.py3-none-win_amd64.whl#sha256=c9777befd8459d4548598580221eb4d72d8caf5f05215baaa75d9ad28165e918 (from https://pypi.org/simple/rgf-python/)\n",
            "  Found link https://files.pythonhosted.org/packages/ca/09/158f9c995f0264f1328c61f49871d934caa6b2dd779c02c622fe130fcfc2/rgf_python-3.4.0.tar.gz#sha256=69d83aeb36c2e075402db06457ea19a39fa83415dbcf958e22eac1f177c00b92 (from https://pypi.org/simple/rgf-python/), version: 3.4.0\n",
            "  Skipping link: none of the wheel's tags (py2-none-macosx_10_10_x86_64, py2-none-macosx_10_11_x86_64, py2-none-macosx_10_12_x86_64, py2-none-macosx_10_13_x86_64, py2-none-macosx_10_14_x86_64, py2-none-macosx_10_6_x86_64, py2-none-macosx_10_7_x86_64, py2-none-macosx_10_8_x86_64, py2-none-macosx_10_9_x86_64, py3-none-macosx_10_10_x86_64, py3-none-macosx_10_11_x86_64, py3-none-macosx_10_12_x86_64, py3-none-macosx_10_13_x86_64, py3-none-macosx_10_14_x86_64, py3-none-macosx_10_6_x86_64, py3-none-macosx_10_7_x86_64, py3-none-macosx_10_8_x86_64, py3-none-macosx_10_9_x86_64) are compatible (run pip debug --verbose to show compatible tags): https://files.pythonhosted.org/packages/9b/82/c9079fde6bfb5e3875fb970ecb96fe3a9dafa44be35224cf876633e4025e/rgf_python-3.5.0-py2.py3-none-macosx_10_6_x86_64.macosx_10_7_x86_64.macosx_10_8_x86_64.macosx_10_9_x86_64.macosx_10_10_x86_64.macosx_10_11_x86_64.macosx_10_12_x86_64.macosx_10_13_x86_64.macosx_10_14_x86_64.whl#sha256=a24bf7bf373dfd8a7d08fe99cbdc8613fcb25b9755267952b7a6e92017521b16 (from https://pypi.org/simple/rgf-python/)\n",
            "  Skipping link: none of the wheel's tags (py2-none-manylinux1_i686, py3-none-manylinux1_i686) are compatible (run pip debug --verbose to show compatible tags): https://files.pythonhosted.org/packages/c4/d2/1d963ee18f183e9d0784b1b18d7de969489491a54387030bd631ca1e3ae4/rgf_python-3.5.0-py2.py3-none-manylinux1_i686.whl#sha256=de85a35374dc8a91c24992b4aa9e47c71990bd560e7ffe3172f2fd5d9401106e (from https://pypi.org/simple/rgf-python/)\n",
            "  Found link https://files.pythonhosted.org/packages/27/b4/4b6cc5448e49c9a13bba46da351e5bf9149486996466e2f8e546bee98afb/rgf_python-3.5.0-py2.py3-none-manylinux1_x86_64.whl#sha256=38a4f296de1745665f6063eff01b8b07c727c0120676d090f751fe19528cb064 (from https://pypi.org/simple/rgf-python/), version: 3.5.0\n",
            "  Skipping link: none of the wheel's tags (py2-none-win32, py3-none-win32) are compatible (run pip debug --verbose to show compatible tags): https://files.pythonhosted.org/packages/eb/c9/c85db732fec74bedc00d317bfc5021a7430c2d467a4b3b23a5e7095b3a66/rgf_python-3.5.0-py2.py3-none-win32.whl#sha256=ea4b1ba6d9ee8f2f77be7a7a9ec90de6f80e5845b129b8796118254e370aee6f (from https://pypi.org/simple/rgf-python/)\n",
            "  Skipping link: none of the wheel's tags (py2-none-win_amd64, py3-none-win_amd64) are compatible (run pip debug --verbose to show compatible tags): https://files.pythonhosted.org/packages/e3/0b/d7157d140bc9ad58799957d9c99c6f5b867c1878c48ff9153437454b3c7e/rgf_python-3.5.0-py2.py3-none-win_amd64.whl#sha256=0fab659e58bc75299dd07312d8acb91cca1470612723c006475b420cafc948b1 (from https://pypi.org/simple/rgf-python/)\n",
            "  Found link https://files.pythonhosted.org/packages/2f/be/07e7295c0378ed88ac320835e4dd58b83596d74ecc5feb7ec824749d3875/rgf_python-3.5.0.tar.gz#sha256=0d97086da9d092de5307b603de2ad2250f883f77634cae29b0484e386e139fbd (from https://pypi.org/simple/rgf-python/), version: 3.5.0\n",
            "  Skipping link: none of the wheel's tags (py2-none-macosx_10_10_x86_64, py2-none-macosx_10_11_x86_64, py2-none-macosx_10_12_x86_64, py2-none-macosx_10_13_x86_64, py2-none-macosx_10_14_x86_64, py2-none-macosx_10_6_x86_64, py2-none-macosx_10_7_x86_64, py2-none-macosx_10_8_x86_64, py2-none-macosx_10_9_x86_64, py3-none-macosx_10_10_x86_64, py3-none-macosx_10_11_x86_64, py3-none-macosx_10_12_x86_64, py3-none-macosx_10_13_x86_64, py3-none-macosx_10_14_x86_64, py3-none-macosx_10_6_x86_64, py3-none-macosx_10_7_x86_64, py3-none-macosx_10_8_x86_64, py3-none-macosx_10_9_x86_64) are compatible (run pip debug --verbose to show compatible tags): https://files.pythonhosted.org/packages/5a/eb/dc56ba6728d7ddba6c708ade14d5e6c501a1893def32544be302eb1a48ce/rgf_python-3.6.0-py2.py3-none-macosx_10_6_x86_64.macosx_10_7_x86_64.macosx_10_8_x86_64.macosx_10_9_x86_64.macosx_10_10_x86_64.macosx_10_11_x86_64.macosx_10_12_x86_64.macosx_10_13_x86_64.macosx_10_14_x86_64.whl#sha256=9963d1d65ce64ede8c07d7ab1752d18bf0aed7689594538e7119fbcdb6561947 (from https://pypi.org/simple/rgf-python/)\n",
            "  Skipping link: none of the wheel's tags (py2-none-manylinux1_i686, py3-none-manylinux1_i686) are compatible (run pip debug --verbose to show compatible tags): https://files.pythonhosted.org/packages/d1/1e/ddb208e3d8c0f1fbe1947de4dd6b1a81a0a05da88a660f11a096c518bc2c/rgf_python-3.6.0-py2.py3-none-manylinux1_i686.whl#sha256=618d0e1ac7f67c3b1b1f3d7f5d91d216ceb0e6a2c8a811b7a46daf6333094cc0 (from https://pypi.org/simple/rgf-python/)\n",
            "  Found link https://files.pythonhosted.org/packages/95/7c/41f50b22c5a40614ffe8b3bfb857dbe7b09b843692697443d7811773f0a4/rgf_python-3.6.0-py2.py3-none-manylinux1_x86_64.whl#sha256=0a3012d8c8b4517632f5098386e8754928cf9fc6e765f9d7a3e74837d447031f (from https://pypi.org/simple/rgf-python/), version: 3.6.0\n",
            "  Skipping link: none of the wheel's tags (py2-none-win32, py3-none-win32) are compatible (run pip debug --verbose to show compatible tags): https://files.pythonhosted.org/packages/5f/ce/bac7ffd6ae708b17bd8d4c7e69b63efa21242cbf8c60c57002e6e710b89a/rgf_python-3.6.0-py2.py3-none-win32.whl#sha256=57bf7331891f9de430ed5902aedf2cb5bc1ca6df8aff899b74369ab2de6fe827 (from https://pypi.org/simple/rgf-python/)\n",
            "  Skipping link: none of the wheel's tags (py2-none-win_amd64, py3-none-win_amd64) are compatible (run pip debug --verbose to show compatible tags): https://files.pythonhosted.org/packages/af/5d/7d8a78d8f9ba4e7de5d28cf830c2de147ff2858808004679629a8544f1db/rgf_python-3.6.0-py2.py3-none-win_amd64.whl#sha256=5e5da0afb67bf94b3df1f149f1a9761bd77d8c34704a4ca7b30476a3a12096f3 (from https://pypi.org/simple/rgf-python/)\n",
            "  Found link https://files.pythonhosted.org/packages/3b/ff/fec333f5da1fce8d88cebb77df2c86df0e98681390734196833ebc4a1241/rgf_python-3.6.0.tar.gz#sha256=a766cafa1bd9a0cb043b6b9f393510fab47461f4f267b6c1071c95f9fb6a54d7 (from https://pypi.org/simple/rgf-python/), version: 3.6.0\n",
            "  Skipping link: none of the wheel's tags (py2-none-macosx_10_13_x86_64, py2-none-macosx_10_14_x86_64, py2-none-macosx_10_15_x86_64, py3-none-macosx_10_13_x86_64, py3-none-macosx_10_14_x86_64, py3-none-macosx_10_15_x86_64) are compatible (run pip debug --verbose to show compatible tags): https://files.pythonhosted.org/packages/14/3a/51fcca1a16c1f0ce866df62ef19a5c782b0e9cef16b76bc545eeb4ae78c1/rgf_python-3.7.0-py2.py3-none-macosx_10_13_x86_64.macosx_10_14_x86_64.macosx_10_15_x86_64.whl#sha256=9d2a25edef026fc57c55de752016cb893b2644c7953bd1dcb9de365202ddceed (from https://pypi.org/simple/rgf-python/)\n",
            "  Skipping link: none of the wheel's tags (py2-none-manylinux1_i686, py3-none-manylinux1_i686) are compatible (run pip debug --verbose to show compatible tags): https://files.pythonhosted.org/packages/b9/bd/591f9818ac126c215c5620684a35480ae841132a9143d2de5a1dae7baa84/rgf_python-3.7.0-py2.py3-none-manylinux1_i686.whl#sha256=8911a4782a471cd7b202d56286144e4aa07607122e640ff109e3feb0b378914a (from https://pypi.org/simple/rgf-python/)\n",
            "  Found link https://files.pythonhosted.org/packages/7e/38/452ac435c3a1fac1cbff2c84211be2b386aaa6c7bdc248c1212ffa174c5f/rgf_python-3.7.0-py2.py3-none-manylinux1_x86_64.whl#sha256=6e39fbae07cb07698973c04066e4f7c33f80c7469feb468de49805c8f5fc2dda (from https://pypi.org/simple/rgf-python/), version: 3.7.0\n",
            "  Skipping link: none of the wheel's tags (py2-none-win32, py3-none-win32) are compatible (run pip debug --verbose to show compatible tags): https://files.pythonhosted.org/packages/5e/37/035521054606eb1946dc9e45821ec7b0a32e51756f9bdc27a6780b4a906c/rgf_python-3.7.0-py2.py3-none-win32.whl#sha256=218399509a4cd1f4d50505a084e57fcb4f990a16004e54c1932e5ad453c279ac (from https://pypi.org/simple/rgf-python/)\n",
            "  Skipping link: none of the wheel's tags (py2-none-win_amd64, py3-none-win_amd64) are compatible (run pip debug --verbose to show compatible tags): https://files.pythonhosted.org/packages/22/a6/5bc0b4a23ed82cd821718b3b8bfb83d4bd89a84f5b304b75ba4016bd1c7e/rgf_python-3.7.0-py2.py3-none-win_amd64.whl#sha256=744668cf82bfb953f4d50aee74a2801221cd23e997cb278c5f27ceaabba65270 (from https://pypi.org/simple/rgf-python/)\n",
            "  Found link https://files.pythonhosted.org/packages/21/88/1d9ce017ac2014a5a42c0065d75286b8bd51c5d826ad2b1638d976ab602f/rgf_python-3.7.0.tar.gz#sha256=cedd292ebe5a2663182efed90f87657b886dc0789f97ef6273656451807ce019 (from https://pypi.org/simple/rgf-python/), version: 3.7.0\n",
            "  Skipping link: none of the wheel's tags (py2-none-macosx_10_13_x86_64, py2-none-macosx_10_14_x86_64, py2-none-macosx_10_15_x86_64, py3-none-macosx_10_13_x86_64, py3-none-macosx_10_14_x86_64, py3-none-macosx_10_15_x86_64) are compatible (run pip debug --verbose to show compatible tags): https://files.pythonhosted.org/packages/59/1f/b16acebb8c30a2ded722468b737d2bb493014a82619a7e614b8367926b1a/rgf_python-3.8.0-py2.py3-none-macosx_10_13_x86_64.macosx_10_14_x86_64.macosx_10_15_x86_64.whl#sha256=add508ed76264d989f9f648b25b51b9bd019fd13b9841d7bd4ebd8082de013d7 (from https://pypi.org/simple/rgf-python/)\n",
            "  Skipping link: none of the wheel's tags (py2-none-manylinux1_i686, py3-none-manylinux1_i686) are compatible (run pip debug --verbose to show compatible tags): https://files.pythonhosted.org/packages/07/ee/b75af1b37359c40ec1af76858b40aa9503e42a0ed7de77a3cfc5314710fd/rgf_python-3.8.0-py2.py3-none-manylinux1_i686.whl#sha256=97c2a1ca4ca085170d5237909e62930e507ec747fea701f3777e437ce759464c (from https://pypi.org/simple/rgf-python/)\n",
            "  Found link https://files.pythonhosted.org/packages/88/f4/8fad3f0f3183b016720fd96b9b6833913188a2bbf4bf28fd757815fef5fe/rgf_python-3.8.0-py2.py3-none-manylinux1_x86_64.whl#sha256=a4eda377a7833c8ff3483675c7d1841429884e59753db33050b422245e60915d (from https://pypi.org/simple/rgf-python/), version: 3.8.0\n",
            "  Skipping link: none of the wheel's tags (py2-none-win32, py3-none-win32) are compatible (run pip debug --verbose to show compatible tags): https://files.pythonhosted.org/packages/89/fd/f1b2f9b55feaafebc894e442097154689fcae9868e09c4cd0641f5ae0e5a/rgf_python-3.8.0-py2.py3-none-win32.whl#sha256=f26a25d2da4a08afc9adc0095ef2ce3d8f307118f4a3bb74ae2ca69a8573c596 (from https://pypi.org/simple/rgf-python/)\n",
            "  Skipping link: none of the wheel's tags (py2-none-win_amd64, py3-none-win_amd64) are compatible (run pip debug --verbose to show compatible tags): https://files.pythonhosted.org/packages/ec/92/ca06adb5daeaf47070341ee42b3a7ad6cc355a40983ae1e5679dd34a649e/rgf_python-3.8.0-py2.py3-none-win_amd64.whl#sha256=10c815a24f53922ea8683bfbab80f18c0c7008c533938e075841f4be1bdeab28 (from https://pypi.org/simple/rgf-python/)\n",
            "  Found link https://files.pythonhosted.org/packages/1e/8b/0b74bf58341be6944301148b326369a231f185c89359bd2ce02176b075ea/rgf_python-3.8.0.tar.gz#sha256=436cad547c9d32aa0db6dcce0b942aa0eab83bd4a8c510ab1d90451a673caf87 (from https://pypi.org/simple/rgf-python/), version: 3.8.0\n",
            "  Skipping link: none of the wheel's tags (py2-none-macosx_10_13_x86_64, py2-none-macosx_10_14_x86_64, py2-none-macosx_10_15_x86_64, py3-none-macosx_10_13_x86_64, py3-none-macosx_10_14_x86_64, py3-none-macosx_10_15_x86_64) are compatible (run pip debug --verbose to show compatible tags): https://files.pythonhosted.org/packages/75/ab/c8c510fc432f7b8c5f2b222217d4c85b5f853646988be9d70afad8bc063c/rgf_python-3.9.0-py2.py3-none-macosx_10_13_x86_64.macosx_10_14_x86_64.macosx_10_15_x86_64.whl#sha256=0ef7a7f892d7b13458b9e2c06ba3f54750d3b140fa92f6c9ccb7a806ef586cd1 (from https://pypi.org/simple/rgf-python/)\n",
            "  Skipping link: none of the wheel's tags (py2-none-manylinux1_i686, py3-none-manylinux1_i686) are compatible (run pip debug --verbose to show compatible tags): https://files.pythonhosted.org/packages/43/c7/a39b858d70c8e873b65aa46324421c8738a047a923f921811190952def54/rgf_python-3.9.0-py2.py3-none-manylinux1_i686.whl#sha256=7be8d44a42035a087333d4cc2ae4ad47ce3a0ab77085a5e3d6c0b84205872f26 (from https://pypi.org/simple/rgf-python/)\n",
            "  Found link https://files.pythonhosted.org/packages/7d/b5/9ba527ce20a1a5a6c279318be856aa4996e0d1b59035d466173198ffd468/rgf_python-3.9.0-py2.py3-none-manylinux1_x86_64.whl#sha256=abda5d1d6389f8e6096376df357a97fd191a16bb173eebf5fccd871781ebf420 (from https://pypi.org/simple/rgf-python/), version: 3.9.0\n",
            "  Skipping link: none of the wheel's tags (py2-none-win32, py3-none-win32) are compatible (run pip debug --verbose to show compatible tags): https://files.pythonhosted.org/packages/b9/2d/b42d6d06aa2edecf971c76c9460a2e19bf8648215d4a5b7d269aab8607de/rgf_python-3.9.0-py2.py3-none-win32.whl#sha256=0ba5d1c941c14e3aad457fbd51bc6924d9908cf7fadcb5bec38ffea1f8e3a4e8 (from https://pypi.org/simple/rgf-python/)\n",
            "  Skipping link: none of the wheel's tags (py2-none-win_amd64, py3-none-win_amd64) are compatible (run pip debug --verbose to show compatible tags): https://files.pythonhosted.org/packages/ca/fa/22e2bd72d988690d05002fc2eb706c50b0f09ae069c6af138b9703b4d58d/rgf_python-3.9.0-py2.py3-none-win_amd64.whl#sha256=286a3b4b099d1be7a16120659a9894ec9e20ebc10e3d13fd552039217397ab13 (from https://pypi.org/simple/rgf-python/)\n",
            "  Found link https://files.pythonhosted.org/packages/79/78/60e9e2eb2ad5535bb022d3ba362f62cd832dc3e49101ba324753b1ad3941/rgf_python-3.9.0.tar.gz#sha256=bf828cd7eeb0b26114e4d911478b52341ef9e01a5f9134fb3a7bc8ba5c359bed (from https://pypi.org/simple/rgf-python/), version: 3.9.0\n",
            "  Skipping link: none of the wheel's tags (py3-none-macosx_10_14_x86_64, py3-none-macosx_10_15_x86_64, py3-none-macosx_11_0_x86_64) are compatible (run pip debug --verbose to show compatible tags): https://files.pythonhosted.org/packages/8d/28/5c727da964daa346d7d58eb9e6d065a77acd24833c4df9f152cd245ce8b4/rgf_python-3.10.0-py3-none-macosx_10_14_x86_64.macosx_10_15_x86_64.macosx_11_0_x86_64.whl#sha256=536709087580dceec3dbadb974f04a70ce69eb20b892a5265b2c6a8ee0d59266 (from https://pypi.org/simple/rgf-python/)\n",
            "  Found link https://files.pythonhosted.org/packages/05/be/1d5eda35782f9721bc0ac17a5a119b168260f4aa5ec2471cdef14f31598b/rgf_python-3.10.0-py3-none-manylinux1_x86_64.whl#sha256=6b04b71ab16e2d970cfdace44680d501d768a508d4f4ab4d8e5f945d1c9fd9dd (from https://pypi.org/simple/rgf-python/), version: 3.10.0\n",
            "  Skipping link: none of the wheel's tags (py3-none-win_amd64) are compatible (run pip debug --verbose to show compatible tags): https://files.pythonhosted.org/packages/97/c3/780eb4707f7e8fe37d7633984d30ed51f9569b56648db82b4ef1d55d0c36/rgf_python-3.10.0-py3-none-win_amd64.whl#sha256=ecf855d83d5e7ea013ac05271a621eb7533c59a6d2ba924a0e85570997694835 (from https://pypi.org/simple/rgf-python/)\n",
            "  Found link https://files.pythonhosted.org/packages/cc/bc/cc5261f586f03aa3d01b2c3f9f42d5cab824e7332b5bea234f4ed9a9dbf7/rgf_python-3.10.0.tar.gz#sha256=ebf5a58af20e43dfc13b1742585688525168d8549e6ec09ec74a1674f308c151 (from https://pypi.org/simple/rgf-python/), version: 3.10.0\n",
            "  Skipping link: none of the wheel's tags (py3-none-macosx_10_14_x86_64, py3-none-macosx_10_15_x86_64, py3-none-macosx_11_0_x86_64) are compatible (run pip debug --verbose to show compatible tags): https://files.pythonhosted.org/packages/dc/b9/dac1762939f3c43e8ff560b98de5a0c65841bf4051e87dae83acecf928e0/rgf_python-3.11.0-py3-none-macosx_10_14_x86_64.macosx_10_15_x86_64.macosx_11_0_x86_64.whl#sha256=052fcadefd2774054c7423a5d5fd8d37361043e1b23790c85c0997898f1c6416 (from https://pypi.org/simple/rgf-python/)\n",
            "  Found link https://files.pythonhosted.org/packages/8d/57/36cbc924eb17537c4bd72d2515f7911e32d8a40b27285ee3721e5b1c87cb/rgf_python-3.11.0-py3-none-manylinux1_x86_64.whl#sha256=350da0dd006ea925c128457d8d425e48b53e12cf55020413e340ebe048a166a0 (from https://pypi.org/simple/rgf-python/), version: 3.11.0\n",
            "  Skipping link: none of the wheel's tags (py3-none-win_amd64) are compatible (run pip debug --verbose to show compatible tags): https://files.pythonhosted.org/packages/fe/61/b0bb0645d4294a39b4118d7bd74c9b6e4fa4d5596d731b4c1584a2b76bc3/rgf_python-3.11.0-py3-none-win_amd64.whl#sha256=38d8a9952d3157d32cd23044aea86f9462358a3d8cd21d3216f65923065b840a (from https://pypi.org/simple/rgf-python/)\n",
            "  Found link https://files.pythonhosted.org/packages/75/33/ba4abb5655d0653463216036747496174cf97a6ba87c5e092bd96735b10b/rgf_python-3.11.0.tar.gz#sha256=54b89cc9d388e49f30b6973ec4f1131b26b57a9da357ea91cb2866f904ccf33e (from https://pypi.org/simple/rgf-python/), version: 3.11.0\n",
            "  Skipping link: none of the wheel's tags (py3-none-macosx_10_15_x86_64, py3-none-macosx_11_6_x86_64, py3-none-macosx_12_0_x86_64) are compatible (run pip debug --verbose to show compatible tags): https://files.pythonhosted.org/packages/ce/7e/c43ac7b0ae984ab859837c26e8bee7729e855389974b2a1166304427ebd7/rgf_python-3.12.0-py3-none-macosx_10_15_x86_64.macosx_11_6_x86_64.macosx_12_0_x86_64.whl#sha256=112838cc99cd312253cdd33c2ad42332dc5c697a9a2117e9694da9f44fba3249 (from https://pypi.org/simple/rgf-python/)\n",
            "  Found link https://files.pythonhosted.org/packages/ad/14/4c5c69054ef1fc2a76b2824a8fc272541ccd17cef417d077e74fe6725dfb/rgf_python-3.12.0-py3-none-manylinux1_x86_64.whl#sha256=7b6d0a1f9e9463b056d234e3a181178f3f19d721dc2d1cc180c600f1a9f7a83e (from https://pypi.org/simple/rgf-python/), version: 3.12.0\n",
            "  Skipping link: none of the wheel's tags (py3-none-win_amd64) are compatible (run pip debug --verbose to show compatible tags): https://files.pythonhosted.org/packages/1b/0b/41ab9b6be4c04cf95d17e4688bb7308bbe1c00d786647ce21b2d3934a3cb/rgf_python-3.12.0-py3-none-win_amd64.whl#sha256=4ede4a61f0a478bbc8f3c326a31a099cc654702ede7e3f2099329b1cdca9ee17 (from https://pypi.org/simple/rgf-python/)\n",
            "  Found link https://files.pythonhosted.org/packages/8e/76/f54da5d5adb09db12ea4dbf28ee038f7b6978ac04d006f8e0561974abf05/rgf_python-3.12.0.tar.gz#sha256=256885634e94412820c1d95ee8f765207d663d5b64c4bb4cf62d361698a32acc (from https://pypi.org/simple/rgf-python/), version: 3.12.0\n",
            "Fetching project page and analyzing links: https://us-python.pkg.dev/colab-wheels/public/simple/rgf-python/\n",
            "Getting page https://us-python.pkg.dev/colab-wheels/public/simple/rgf-python/\n",
            "Found index url https://us-python.pkg.dev/colab-wheels/public/simple/\n",
            "Looking up \"https://us-python.pkg.dev/colab-wheels/public/simple/rgf-python/\" in the cache\n",
            "Request header has \"max_age\" as 0, cache bypassed\n",
            "Starting new HTTPS connection (1): us-python.pkg.dev:443\n",
            "https://us-python.pkg.dev:443 \"GET /colab-wheels/public/simple/rgf-python/ HTTP/1.1\" 404 32\n",
            "Status code 404 not in (200, 203, 300, 301)\n",
            "Could not fetch URL https://us-python.pkg.dev/colab-wheels/public/simple/rgf-python/: 404 Client Error: Not Found for url: https://us-python.pkg.dev/colab-wheels/public/simple/rgf-python/ - skipping\n",
            "Skipping link: not a file: https://us-python.pkg.dev/colab-wheels/public/simple/rgf-python/\n",
            "Skipping link: not a file: https://pypi.org/simple/rgf-python/\n",
            "Given no hashes to check 44 links for project 'rgf-python': discarding no candidates\n",
            "Requirement already satisfied: scikit-learn>=0.18 in /usr/local/lib/python3.7/dist-packages (from rgf_python) (1.0.2)\n",
            "Requirement already satisfied: joblib in /usr/local/lib/python3.7/dist-packages (from rgf_python) (1.1.0)\n",
            "Requirement already satisfied: threadpoolctl>=2.0.0 in /usr/local/lib/python3.7/dist-packages (from scikit-learn>=0.18->rgf_python) (3.1.0)\n",
            "Requirement already satisfied: numpy>=1.14.6 in /usr/local/lib/python3.7/dist-packages (from scikit-learn>=0.18->rgf_python) (1.21.6)\n",
            "Requirement already satisfied: scipy>=1.1.0 in /usr/local/lib/python3.7/dist-packages (from scikit-learn>=0.18->rgf_python) (1.4.1)\n",
            "Created temporary directory: /tmp/pip-unpack-5ygp8h99\n",
            "Value for scheme.platlib does not match. Please report this to <https://github.com/pypa/pip/issues/9617>\n",
            "distutils: /usr/local/lib/python3.7/dist-packages\n",
            "sysconfig: /usr/lib/python3.7/site-packages\n",
            "Value for scheme.purelib does not match. Please report this to <https://github.com/pypa/pip/issues/9617>\n",
            "distutils: /usr/local/lib/python3.7/dist-packages\n",
            "sysconfig: /usr/lib/python3.7/site-packages\n",
            "Value for scheme.headers does not match. Please report this to <https://github.com/pypa/pip/issues/9617>\n",
            "distutils: /usr/local/include/python3.7/UNKNOWN\n",
            "sysconfig: /usr/include/python3.7m/UNKNOWN\n",
            "Value for scheme.scripts does not match. Please report this to <https://github.com/pypa/pip/issues/9617>\n",
            "distutils: /usr/local/bin\n",
            "sysconfig: /usr/bin\n",
            "Value for scheme.data does not match. Please report this to <https://github.com/pypa/pip/issues/9617>\n",
            "distutils: /usr/local\n",
            "sysconfig: /usr\n",
            "Additional context:\n",
            "user = False\n",
            "home = None\n",
            "root = None\n",
            "prefix = None\n",
            "Removed build tracker: '/tmp/pip-req-tracker-lc4qi00c'\n"
          ]
        }
      ],
      "source": [
        "!pip install rgf_python -v -U"
      ]
    },
    {
      "cell_type": "code",
      "execution_count": null,
      "metadata": {
        "id": "iYIbIjSk-MF7"
      },
      "outputs": [],
      "source": [
        "import pandas as pd \n",
        "import numpy as np\n",
        "from scipy import stats\n",
        "import matplotlib.pyplot as plt\n",
        "%matplotlib inline\n",
        "import seaborn as sns\n",
        "import gc\n",
        "import warnings \n",
        "warnings.filterwarnings('ignore')\n",
        "pd.set_option('display.max_columns',100)\n",
        "pd.set_option('display.max_rows', 500)\n",
        "from importlib import reload\n",
        "from pprint import pprint\n",
        "from sklearn.preprocessing import LabelEncoder\n",
        "from sklearn.model_selection import train_test_split\n",
        "from xgboost import XGBClassifier\n",
        "from sklearn.metrics import roc_auc_score, precision_score, recall_score, f1_score\n",
        "from sklearn.metrics import plot_confusion_matrix"
      ]
    },
    {
      "cell_type": "code",
      "execution_count": null,
      "metadata": {
        "id": "NDfYaSuY91vI"
      },
      "outputs": [],
      "source": [
        "%matplotlib inline\n",
        "import pandas as pd\n",
        "import numpy as np\n",
        "from IPython.core.interactiveshell import InteractiveShell\n",
        "import random\n",
        "InteractiveShell.ast_node_interactivity = \"all\"\n",
        "import os\n",
        "from datetime import datetime\n",
        "import matplotlib.pyplot as plt\n",
        "import plotly.express as px\n",
        "import glob\n",
        "from tqdm import tqdm\n",
        "from sklearn.preprocessing import StandardScaler\n",
        "import plotly.figure_factory as ff\n",
        "import plotly.express as px"
      ]
    },
    {
      "cell_type": "code",
      "execution_count": null,
      "metadata": {
        "id": "oty6zxIO31jY"
      },
      "outputs": [],
      "source": [
        "import pandas as pd, numpy as np, os\n",
        "from sklearn.svm import SVC, LinearSVC\n",
        "from sklearn.model_selection import cross_val_score, validation_curve, train_test_split, GridSearchCV \n",
        "from sklearn.pipeline import make_pipeline\n",
        "from sklearn.metrics import classification_report, confusion_matrix, accuracy_score\n",
        "from sklearn.preprocessing import StandardScaler, MinMaxScaler, RobustScaler\n",
        "from sklearn.experimental import enable_hist_gradient_boosting\n",
        "import matplotlib.pyplot as plt\n",
        "from sklearn.ensemble import BaggingClassifier, GradientBoostingClassifier, RandomForestClassifier, ExtraTreesClassifier, AdaBoostClassifier,HistGradientBoostingClassifier\n",
        "import xgboost as xgb\n",
        "from sklearn.tree import DecisionTreeClassifier\n",
        "from sklearn.neural_network import MLPClassifier\n",
        "from sklearn.neighbors import KNeighborsClassifier\n",
        "from rgf.sklearn import RGFClassifier\n",
        "from sklearn.naive_bayes import GaussianNB\n",
        "from sklearn.linear_model import SGDClassifier\n",
        "import matplotlib.pyplot as plt"
      ]
    },
    {
      "cell_type": "code",
      "execution_count": null,
      "metadata": {
        "colab": {
          "base_uri": "https://localhost:8080/"
        },
        "id": "OseqO3Px8DmN",
        "outputId": "d1de07cb-242b-44d6-cfeb-be788f7db1c3"
      },
      "outputs": [
        {
          "output_type": "stream",
          "name": "stdout",
          "text": [
            "Drive already mounted at /content/drive; to attempt to forcibly remount, call drive.mount(\"/content/drive\", force_remount=True).\n"
          ]
        }
      ],
      "source": [
        "from google.colab import drive\n",
        "drive.mount('/content/drive')"
      ]
    },
    {
      "cell_type": "markdown",
      "source": [
        "## 3:  Importing the dataset"
      ],
      "metadata": {
        "id": "ZK8hehi5ricd"
      }
    },
    {
      "cell_type": "code",
      "execution_count": null,
      "metadata": {
        "id": "4TIt5_1o88P_"
      },
      "outputs": [],
      "source": [
        "#import wildfire data set \n",
        "folder_path = '/content/drive/MyDrive/WildFires-Dossier/'\n",
        "df = pd.read_csv(f'{folder_path}WildFires_DataSet.csv')"
      ]
    },
    {
      "cell_type": "markdown",
      "source": [
        "## **Data exploration**"
      ],
      "metadata": {
        "id": "3O2L91qor5nh"
      }
    },
    {
      "cell_type": "code",
      "execution_count": null,
      "metadata": {
        "colab": {
          "base_uri": "https://localhost:8080/",
          "height": 206
        },
        "id": "t_USto919dtY",
        "outputId": "de5000f7-a560-44bd-c388-65df1008f919"
      },
      "outputs": [
        {
          "output_type": "execute_result",
          "data": {
            "text/plain": [
              "       NDVI           LST  BURNED_AREA    CLASS\n",
              "0  0.506782  14584.272727     4.692308  no_fire\n",
              "1  0.522150  14655.833333     5.000000  no_fire\n",
              "2  0.682284  14780.000000     5.000000     fire\n",
              "3  0.120046  13298.500000     3.500000  no_fire\n",
              "4  0.568734  14743.000000     5.000000  no_fire"
            ],
            "text/html": [
              "\n",
              "  <div id=\"df-bb9ad082-05bf-405c-ae77-a294942f54e3\">\n",
              "    <div class=\"colab-df-container\">\n",
              "      <div>\n",
              "<style scoped>\n",
              "    .dataframe tbody tr th:only-of-type {\n",
              "        vertical-align: middle;\n",
              "    }\n",
              "\n",
              "    .dataframe tbody tr th {\n",
              "        vertical-align: top;\n",
              "    }\n",
              "\n",
              "    .dataframe thead th {\n",
              "        text-align: right;\n",
              "    }\n",
              "</style>\n",
              "<table border=\"1\" class=\"dataframe\">\n",
              "  <thead>\n",
              "    <tr style=\"text-align: right;\">\n",
              "      <th></th>\n",
              "      <th>NDVI</th>\n",
              "      <th>LST</th>\n",
              "      <th>BURNED_AREA</th>\n",
              "      <th>CLASS</th>\n",
              "    </tr>\n",
              "  </thead>\n",
              "  <tbody>\n",
              "    <tr>\n",
              "      <th>0</th>\n",
              "      <td>0.506782</td>\n",
              "      <td>14584.272727</td>\n",
              "      <td>4.692308</td>\n",
              "      <td>no_fire</td>\n",
              "    </tr>\n",
              "    <tr>\n",
              "      <th>1</th>\n",
              "      <td>0.522150</td>\n",
              "      <td>14655.833333</td>\n",
              "      <td>5.000000</td>\n",
              "      <td>no_fire</td>\n",
              "    </tr>\n",
              "    <tr>\n",
              "      <th>2</th>\n",
              "      <td>0.682284</td>\n",
              "      <td>14780.000000</td>\n",
              "      <td>5.000000</td>\n",
              "      <td>fire</td>\n",
              "    </tr>\n",
              "    <tr>\n",
              "      <th>3</th>\n",
              "      <td>0.120046</td>\n",
              "      <td>13298.500000</td>\n",
              "      <td>3.500000</td>\n",
              "      <td>no_fire</td>\n",
              "    </tr>\n",
              "    <tr>\n",
              "      <th>4</th>\n",
              "      <td>0.568734</td>\n",
              "      <td>14743.000000</td>\n",
              "      <td>5.000000</td>\n",
              "      <td>no_fire</td>\n",
              "    </tr>\n",
              "  </tbody>\n",
              "</table>\n",
              "</div>\n",
              "      <button class=\"colab-df-convert\" onclick=\"convertToInteractive('df-bb9ad082-05bf-405c-ae77-a294942f54e3')\"\n",
              "              title=\"Convert this dataframe to an interactive table.\"\n",
              "              style=\"display:none;\">\n",
              "        \n",
              "  <svg xmlns=\"http://www.w3.org/2000/svg\" height=\"24px\"viewBox=\"0 0 24 24\"\n",
              "       width=\"24px\">\n",
              "    <path d=\"M0 0h24v24H0V0z\" fill=\"none\"/>\n",
              "    <path d=\"M18.56 5.44l.94 2.06.94-2.06 2.06-.94-2.06-.94-.94-2.06-.94 2.06-2.06.94zm-11 1L8.5 8.5l.94-2.06 2.06-.94-2.06-.94L8.5 2.5l-.94 2.06-2.06.94zm10 10l.94 2.06.94-2.06 2.06-.94-2.06-.94-.94-2.06-.94 2.06-2.06.94z\"/><path d=\"M17.41 7.96l-1.37-1.37c-.4-.4-.92-.59-1.43-.59-.52 0-1.04.2-1.43.59L10.3 9.45l-7.72 7.72c-.78.78-.78 2.05 0 2.83L4 21.41c.39.39.9.59 1.41.59.51 0 1.02-.2 1.41-.59l7.78-7.78 2.81-2.81c.8-.78.8-2.07 0-2.86zM5.41 20L4 18.59l7.72-7.72 1.47 1.35L5.41 20z\"/>\n",
              "  </svg>\n",
              "      </button>\n",
              "      \n",
              "  <style>\n",
              "    .colab-df-container {\n",
              "      display:flex;\n",
              "      flex-wrap:wrap;\n",
              "      gap: 12px;\n",
              "    }\n",
              "\n",
              "    .colab-df-convert {\n",
              "      background-color: #E8F0FE;\n",
              "      border: none;\n",
              "      border-radius: 50%;\n",
              "      cursor: pointer;\n",
              "      display: none;\n",
              "      fill: #1967D2;\n",
              "      height: 32px;\n",
              "      padding: 0 0 0 0;\n",
              "      width: 32px;\n",
              "    }\n",
              "\n",
              "    .colab-df-convert:hover {\n",
              "      background-color: #E2EBFA;\n",
              "      box-shadow: 0px 1px 2px rgba(60, 64, 67, 0.3), 0px 1px 3px 1px rgba(60, 64, 67, 0.15);\n",
              "      fill: #174EA6;\n",
              "    }\n",
              "\n",
              "    [theme=dark] .colab-df-convert {\n",
              "      background-color: #3B4455;\n",
              "      fill: #D2E3FC;\n",
              "    }\n",
              "\n",
              "    [theme=dark] .colab-df-convert:hover {\n",
              "      background-color: #434B5C;\n",
              "      box-shadow: 0px 1px 3px 1px rgba(0, 0, 0, 0.15);\n",
              "      filter: drop-shadow(0px 1px 2px rgba(0, 0, 0, 0.3));\n",
              "      fill: #FFFFFF;\n",
              "    }\n",
              "  </style>\n",
              "\n",
              "      <script>\n",
              "        const buttonEl =\n",
              "          document.querySelector('#df-bb9ad082-05bf-405c-ae77-a294942f54e3 button.colab-df-convert');\n",
              "        buttonEl.style.display =\n",
              "          google.colab.kernel.accessAllowed ? 'block' : 'none';\n",
              "\n",
              "        async function convertToInteractive(key) {\n",
              "          const element = document.querySelector('#df-bb9ad082-05bf-405c-ae77-a294942f54e3');\n",
              "          const dataTable =\n",
              "            await google.colab.kernel.invokeFunction('convertToInteractive',\n",
              "                                                     [key], {});\n",
              "          if (!dataTable) return;\n",
              "\n",
              "          const docLinkHtml = 'Like what you see? Visit the ' +\n",
              "            '<a target=\"_blank\" href=https://colab.research.google.com/notebooks/data_table.ipynb>data table notebook</a>'\n",
              "            + ' to learn more about interactive tables.';\n",
              "          element.innerHTML = '';\n",
              "          dataTable['output_type'] = 'display_data';\n",
              "          await google.colab.output.renderOutput(dataTable, element);\n",
              "          const docLink = document.createElement('div');\n",
              "          docLink.innerHTML = docLinkHtml;\n",
              "          element.appendChild(docLink);\n",
              "        }\n",
              "      </script>\n",
              "    </div>\n",
              "  </div>\n",
              "  "
            ]
          },
          "metadata": {},
          "execution_count": 73
        }
      ],
      "source": [
        "#snapshot of the data\n",
        "df.head()"
      ]
    },
    {
      "cell_type": "code",
      "execution_count": null,
      "metadata": {
        "colab": {
          "base_uri": "https://localhost:8080/",
          "height": 300
        },
        "id": "C7qqnYJE9jJt",
        "outputId": "f9cd3e57-8b11-4c9b-ec48-8cecf1d8cbdd"
      },
      "outputs": [
        {
          "output_type": "execute_result",
          "data": {
            "text/plain": [
              "              NDVI           LST  BURNED_AREA\n",
              "count  1713.000000   1713.000000  1713.000000\n",
              "mean      0.555665  14622.802073     4.674973\n",
              "std       0.092847    366.927861     0.583791\n",
              "min       0.030735  13137.000000     3.000000\n",
              "25%       0.501276  14406.000000     4.521951\n",
              "50%       0.565181  14645.750000     4.920635\n",
              "75%       0.620987  14881.300000     5.000000\n",
              "max       0.781723  15611.570513     9.000000"
            ],
            "text/html": [
              "\n",
              "  <div id=\"df-c3d79052-6b45-4a68-a769-9b81a95a9fd3\">\n",
              "    <div class=\"colab-df-container\">\n",
              "      <div>\n",
              "<style scoped>\n",
              "    .dataframe tbody tr th:only-of-type {\n",
              "        vertical-align: middle;\n",
              "    }\n",
              "\n",
              "    .dataframe tbody tr th {\n",
              "        vertical-align: top;\n",
              "    }\n",
              "\n",
              "    .dataframe thead th {\n",
              "        text-align: right;\n",
              "    }\n",
              "</style>\n",
              "<table border=\"1\" class=\"dataframe\">\n",
              "  <thead>\n",
              "    <tr style=\"text-align: right;\">\n",
              "      <th></th>\n",
              "      <th>NDVI</th>\n",
              "      <th>LST</th>\n",
              "      <th>BURNED_AREA</th>\n",
              "    </tr>\n",
              "  </thead>\n",
              "  <tbody>\n",
              "    <tr>\n",
              "      <th>count</th>\n",
              "      <td>1713.000000</td>\n",
              "      <td>1713.000000</td>\n",
              "      <td>1713.000000</td>\n",
              "    </tr>\n",
              "    <tr>\n",
              "      <th>mean</th>\n",
              "      <td>0.555665</td>\n",
              "      <td>14622.802073</td>\n",
              "      <td>4.674973</td>\n",
              "    </tr>\n",
              "    <tr>\n",
              "      <th>std</th>\n",
              "      <td>0.092847</td>\n",
              "      <td>366.927861</td>\n",
              "      <td>0.583791</td>\n",
              "    </tr>\n",
              "    <tr>\n",
              "      <th>min</th>\n",
              "      <td>0.030735</td>\n",
              "      <td>13137.000000</td>\n",
              "      <td>3.000000</td>\n",
              "    </tr>\n",
              "    <tr>\n",
              "      <th>25%</th>\n",
              "      <td>0.501276</td>\n",
              "      <td>14406.000000</td>\n",
              "      <td>4.521951</td>\n",
              "    </tr>\n",
              "    <tr>\n",
              "      <th>50%</th>\n",
              "      <td>0.565181</td>\n",
              "      <td>14645.750000</td>\n",
              "      <td>4.920635</td>\n",
              "    </tr>\n",
              "    <tr>\n",
              "      <th>75%</th>\n",
              "      <td>0.620987</td>\n",
              "      <td>14881.300000</td>\n",
              "      <td>5.000000</td>\n",
              "    </tr>\n",
              "    <tr>\n",
              "      <th>max</th>\n",
              "      <td>0.781723</td>\n",
              "      <td>15611.570513</td>\n",
              "      <td>9.000000</td>\n",
              "    </tr>\n",
              "  </tbody>\n",
              "</table>\n",
              "</div>\n",
              "      <button class=\"colab-df-convert\" onclick=\"convertToInteractive('df-c3d79052-6b45-4a68-a769-9b81a95a9fd3')\"\n",
              "              title=\"Convert this dataframe to an interactive table.\"\n",
              "              style=\"display:none;\">\n",
              "        \n",
              "  <svg xmlns=\"http://www.w3.org/2000/svg\" height=\"24px\"viewBox=\"0 0 24 24\"\n",
              "       width=\"24px\">\n",
              "    <path d=\"M0 0h24v24H0V0z\" fill=\"none\"/>\n",
              "    <path d=\"M18.56 5.44l.94 2.06.94-2.06 2.06-.94-2.06-.94-.94-2.06-.94 2.06-2.06.94zm-11 1L8.5 8.5l.94-2.06 2.06-.94-2.06-.94L8.5 2.5l-.94 2.06-2.06.94zm10 10l.94 2.06.94-2.06 2.06-.94-2.06-.94-.94-2.06-.94 2.06-2.06.94z\"/><path d=\"M17.41 7.96l-1.37-1.37c-.4-.4-.92-.59-1.43-.59-.52 0-1.04.2-1.43.59L10.3 9.45l-7.72 7.72c-.78.78-.78 2.05 0 2.83L4 21.41c.39.39.9.59 1.41.59.51 0 1.02-.2 1.41-.59l7.78-7.78 2.81-2.81c.8-.78.8-2.07 0-2.86zM5.41 20L4 18.59l7.72-7.72 1.47 1.35L5.41 20z\"/>\n",
              "  </svg>\n",
              "      </button>\n",
              "      \n",
              "  <style>\n",
              "    .colab-df-container {\n",
              "      display:flex;\n",
              "      flex-wrap:wrap;\n",
              "      gap: 12px;\n",
              "    }\n",
              "\n",
              "    .colab-df-convert {\n",
              "      background-color: #E8F0FE;\n",
              "      border: none;\n",
              "      border-radius: 50%;\n",
              "      cursor: pointer;\n",
              "      display: none;\n",
              "      fill: #1967D2;\n",
              "      height: 32px;\n",
              "      padding: 0 0 0 0;\n",
              "      width: 32px;\n",
              "    }\n",
              "\n",
              "    .colab-df-convert:hover {\n",
              "      background-color: #E2EBFA;\n",
              "      box-shadow: 0px 1px 2px rgba(60, 64, 67, 0.3), 0px 1px 3px 1px rgba(60, 64, 67, 0.15);\n",
              "      fill: #174EA6;\n",
              "    }\n",
              "\n",
              "    [theme=dark] .colab-df-convert {\n",
              "      background-color: #3B4455;\n",
              "      fill: #D2E3FC;\n",
              "    }\n",
              "\n",
              "    [theme=dark] .colab-df-convert:hover {\n",
              "      background-color: #434B5C;\n",
              "      box-shadow: 0px 1px 3px 1px rgba(0, 0, 0, 0.15);\n",
              "      filter: drop-shadow(0px 1px 2px rgba(0, 0, 0, 0.3));\n",
              "      fill: #FFFFFF;\n",
              "    }\n",
              "  </style>\n",
              "\n",
              "      <script>\n",
              "        const buttonEl =\n",
              "          document.querySelector('#df-c3d79052-6b45-4a68-a769-9b81a95a9fd3 button.colab-df-convert');\n",
              "        buttonEl.style.display =\n",
              "          google.colab.kernel.accessAllowed ? 'block' : 'none';\n",
              "\n",
              "        async function convertToInteractive(key) {\n",
              "          const element = document.querySelector('#df-c3d79052-6b45-4a68-a769-9b81a95a9fd3');\n",
              "          const dataTable =\n",
              "            await google.colab.kernel.invokeFunction('convertToInteractive',\n",
              "                                                     [key], {});\n",
              "          if (!dataTable) return;\n",
              "\n",
              "          const docLinkHtml = 'Like what you see? Visit the ' +\n",
              "            '<a target=\"_blank\" href=https://colab.research.google.com/notebooks/data_table.ipynb>data table notebook</a>'\n",
              "            + ' to learn more about interactive tables.';\n",
              "          element.innerHTML = '';\n",
              "          dataTable['output_type'] = 'display_data';\n",
              "          await google.colab.output.renderOutput(dataTable, element);\n",
              "          const docLink = document.createElement('div');\n",
              "          docLink.innerHTML = docLinkHtml;\n",
              "          element.appendChild(docLink);\n",
              "        }\n",
              "      </script>\n",
              "    </div>\n",
              "  </div>\n",
              "  "
            ]
          },
          "metadata": {},
          "execution_count": 74
        }
      ],
      "source": [
        "df.describe()"
      ]
    },
    {
      "cell_type": "code",
      "execution_count": null,
      "metadata": {
        "colab": {
          "base_uri": "https://localhost:8080/"
        },
        "id": "zAjgP5Dmri6K",
        "outputId": "2be839b7-ef81-432e-d0f9-d6bc1750f4b4"
      },
      "outputs": [
        {
          "output_type": "stream",
          "name": "stdout",
          "text": [
            "<class 'pandas.core.frame.DataFrame'>\n",
            "RangeIndex: 1713 entries, 0 to 1712\n",
            "Data columns (total 4 columns):\n",
            " #   Column       Non-Null Count  Dtype  \n",
            "---  ------       --------------  -----  \n",
            " 0   NDVI         1713 non-null   float64\n",
            " 1   LST          1713 non-null   float64\n",
            " 2   BURNED_AREA  1713 non-null   float64\n",
            " 3   CLASS        1713 non-null   object \n",
            "dtypes: float64(3), object(1)\n",
            "memory usage: 53.7+ KB\n"
          ]
        }
      ],
      "source": [
        "df.info()"
      ]
    },
    {
      "cell_type": "markdown",
      "source": [
        "Good news, we don’t have any null values in this dataset"
      ],
      "metadata": {
        "id": "HtKhdxnPsA9l"
      }
    },
    {
      "cell_type": "code",
      "execution_count": null,
      "metadata": {
        "id": "IyVjIyr29oWJ"
      },
      "outputs": [],
      "source": [
        "# split the dataset into train features and target varaible\n",
        "X = df.drop('CLASS', axis=1)\n",
        "y = df['CLASS']"
      ]
    },
    {
      "cell_type": "markdown",
      "source": [
        "## 5: Data balancing"
      ],
      "metadata": {
        "id": "vRWHAVetsOCe"
      }
    },
    {
      "cell_type": "code",
      "execution_count": null,
      "metadata": {
        "colab": {
          "base_uri": "https://localhost:8080/",
          "height": 359
        },
        "id": "5aWcaX-l-G9s",
        "outputId": "bd7fdc1f-8a04-428c-8bfc-7ee82af13c4b"
      },
      "outputs": [
        {
          "output_type": "execute_result",
          "data": {
            "text/plain": [
              "Text(0.5, 1.0, '\\nwildfires prediction \\n 0: no_fire | 1: fire \\n')"
            ]
          },
          "metadata": {},
          "execution_count": 77
        },
        {
          "output_type": "execute_result",
          "data": {
            "text/plain": [
              "Text(0.0, 1327.0, '1327 (77.5%)')"
            ]
          },
          "metadata": {},
          "execution_count": 77
        },
        {
          "output_type": "execute_result",
          "data": {
            "text/plain": [
              "Text(1.0, 386.0, '386 (22.5%)')"
            ]
          },
          "metadata": {},
          "execution_count": 77
        },
        {
          "output_type": "display_data",
          "data": {
            "text/plain": [
              "<Figure size 432x288 with 1 Axes>"
            ],
            "image/png": "[encoded data removed]"
          },
          "metadata": {
            "needs_background": "light"
          }
        }
      ],
      "source": [
        "ax = sns.countplot(x='CLASS', data = df,palette = 'plasma')\n",
        "\n",
        "plt.title(\"\\nwildfires prediction \\n 0: no_fire | 1: fire \\n\")\n",
        "\n",
        "plt.margins(0.05, 0.1)\n",
        "\n",
        "for p in ax.patches:\n",
        "  x=p.get_bbox().get_points()[:,0]\n",
        "  y=p.get_bbox().get_points()[1,1]\n",
        "  ax.annotate('{} ({:.1f}%)'.format(int(y),100.*y/len(df)), (x.mean(), y), \n",
        "          ha='center', va='bottom') \n",
        "\n",
        "plt.show()"
      ]
    },
    {
      "cell_type": "markdown",
      "metadata": {
        "id": "EMsa1A98-2m2"
      },
      "source": [
        "We can notice that there is class imbalance.Class imbalance is a common problem in machine learning, especially in classification problems. Imbalance data can significantly affect the accuracy of our model."
      ]
    },
    {
      "cell_type": "code",
      "execution_count": null,
      "metadata": {
        "colab": {
          "base_uri": "https://localhost:8080/"
        },
        "id": "JTd_LLlPdF1X",
        "outputId": "86a068f2-b678-4bd3-8fe8-5363c2e4a0bd"
      },
      "outputs": [
        {
          "output_type": "stream",
          "name": "stdout",
          "text": [
            "class 0: (1327, 4)\n",
            "class 1: (386, 4)\n"
          ]
        }
      ],
      "source": [
        "# class count\n",
        "class_count_0, class_count_1 = df['CLASS'].value_counts()\n",
        "\n",
        "# Separate class\n",
        "class_0 = df[df['CLASS'] == 'no_fire']\n",
        "class_1 = df[df['CLASS'] == 'fire']# print the shape of the class\n",
        "print('class 0:', class_0.shape)\n",
        "print('class 1:', class_1.shape)"
      ]
    },
    {
      "cell_type": "code",
      "execution_count": null,
      "metadata": {
        "id": "qtHG8CASdG9y"
      },
      "outputs": [],
      "source": [
        "# split the dataset into train features and target varaible\n",
        "X = df.drop('CLASS', axis=1)\n",
        "y = df['CLASS']"
      ]
    },
    {
      "cell_type": "code",
      "execution_count": null,
      "metadata": {
        "id": "hvy2aTcRC--j"
      },
      "outputs": [],
      "source": [
        "#output\n",
        "y = df[\"CLASS\"]\n",
        "\n",
        "#replace the categories with numerical values\n",
        "y.replace({\"no_fire\":0, \"fire\":1}, inplace=True)"
      ]
    },
    {
      "cell_type": "markdown",
      "source": [
        "We balanced our dataset using the oversampling technique via the SMOT method   "
      ],
      "metadata": {
        "id": "bh_ESkqIsgi9"
      }
    },
    {
      "cell_type": "code",
      "execution_count": null,
      "metadata": {
        "colab": {
          "base_uri": "https://localhost:8080/"
        },
        "id": "yh_xB8eydRb6",
        "outputId": "f76f5589-60d0-4990-a097-80d240475b90"
      },
      "outputs": [
        {
          "output_type": "stream",
          "name": "stdout",
          "text": [
            "Original dataset shape Counter({0: 1327, 1: 386})\n",
            "Resampled dataset shape Counter({0: 1327, 1: 1327})\n"
          ]
        }
      ],
      "source": [
        "from collections import Counter\n",
        "from imblearn.over_sampling import SMOTE \n",
        "print('Original dataset shape %s' % Counter(y))\n",
        "sm = SMOTE(random_state=42)\n",
        "X_res, y_res = sm.fit_resample(X, y)\n",
        "print('Resampled dataset shape %s' % Counter(y_res))"
      ]
    },
    {
      "cell_type": "code",
      "execution_count": null,
      "metadata": {
        "colab": {
          "base_uri": "https://localhost:8080/",
          "height": 378
        },
        "id": "2muZwZ5mdXZg",
        "outputId": "fee70045-95a5-407f-baea-327e4fc54f75"
      },
      "outputs": [
        {
          "output_type": "stream",
          "name": "stdout",
          "text": [
            "total class of fire and no_fire: no_fire    386\n",
            "fire       386\n",
            "Name: CLASS, dtype: int64\n"
          ]
        },
        {
          "output_type": "execute_result",
          "data": {
            "text/plain": [
              "<matplotlib.axes._subplots.AxesSubplot at 0x7f471dc83850>"
            ]
          },
          "metadata": {},
          "execution_count": 82
        },
        {
          "output_type": "display_data",
          "data": {
            "text/plain": [
              "<Figure size 432x288 with 1 Axes>"
            ],
            "image/png": "[encoded data removed]"
          },
          "metadata": {
            "needs_background": "light"
          }
        }
      ],
      "source": [
        "class_0_under = class_0.sample(class_count_1)\n",
        "\n",
        "test_under = pd.concat([class_0_under, class_1], axis=0)\n",
        "\n",
        "print(\"total class of fire and no_fire:\",test_under['CLASS'].value_counts())# plot the count after under-sampeling\n",
        "test_under['CLASS'].value_counts().plot(kind='bar', title='total class of fire and no_fire')"
      ]
    },
    {
      "cell_type": "code",
      "execution_count": null,
      "metadata": {
        "id": "U9wcv7nTdi93"
      },
      "outputs": [],
      "source": [
        "# split the tdata\n",
        "X_train, X_test, y_train, y_test = train_test_split(X_res, y_res, test_size=0.3, random_state=42)"
      ]
    },
    {
      "cell_type": "markdown",
      "source": [
        "## 6: Application of Machine Learning algorithms "
      ],
      "metadata": {
        "id": "99A-tesxs80c"
      }
    },
    {
      "cell_type": "markdown",
      "source": [
        "In our simulation, we used eleven of the most popular data mining algorithms: Neural Networks,SVM, Bagging Classifier, Extremely Randomised Trees, Adaboost Classifier, Gradient Boosting, Extreme Gradient Boosting (XGBOOST), Random Forest, Nearest Neighbour, Gaussian Naive Bayes and Stochastic Gradientdescent. "
      ],
      "metadata": {
        "id": "uCZ_8YoxVAuj"
      }
    },
    {
      "cell_type": "code",
      "execution_count": null,
      "metadata": {
        "id": "mZ4pCMlSDmjI"
      },
      "outputs": [],
      "source": [
        "#Scaler\n",
        "scaler = StandardScaler()"
      ]
    },
    {
      "cell_type": "code",
      "source": [
        "import tensorflow as tf\n",
        "from tensorflow import keras\n",
        "from tensorflow.keras.optimizers import Adam\n",
        "\n",
        "from tensorflow.keras.optimizers import Adam # - Works\n"
      ],
      "metadata": {
        "id": "gd0GaM4MVCa7"
      },
      "execution_count": null,
      "outputs": []
    },
    {
      "cell_type": "code",
      "source": [
        "xgb_clf = XGBClassifier(learning_rate= 0.1,subsample = 0.8,max_depth = 12)"
      ],
      "metadata": {
        "id": "c6UTsEzgVRMh"
      },
      "execution_count": null,
      "outputs": []
    },
    {
      "cell_type": "code",
      "source": [
        "xgb_clf.fit(X_train, y_train)"
      ],
      "metadata": {
        "colab": {
          "base_uri": "https://localhost:8080/"
        },
        "id": "rjQnQZTUVW3b",
        "outputId": "954a10f9-6aa7-49b0-9987-670848ebd1c7"
      },
      "execution_count": null,
      "outputs": [
        {
          "output_type": "execute_result",
          "data": {
            "text/plain": [
              "XGBClassifier(max_depth=12, subsample=0.8)"
            ]
          },
          "metadata": {},
          "execution_count": 87
        }
      ]
    },
    {
      "cell_type": "code",
      "source": [
        "# Print the accuracy score\n",
        "print(xgb_clf.score(X_test, y_test))\n",
        "xgb_score= xgb_clf.score(X_test, y_test)"
      ],
      "metadata": {
        "colab": {
          "base_uri": "https://localhost:8080/"
        },
        "id": "lwFZAcHXVbCl",
        "outputId": "4a9fcccc-525f-45a9-ed12-ace3cede487d"
      },
      "execution_count": null,
      "outputs": [
        {
          "output_type": "stream",
          "name": "stdout",
          "text": [
            "0.8469259723964868\n"
          ]
        }
      ]
    },
    {
      "cell_type": "code",
      "source": [
        "# Compute ROC AUC Score\n",
        "prediction_probability = xgb_clf.predict_proba(X_test)\n",
        "print(roc_auc_score(y_test, prediction_probability[ : , 1]))\n",
        "xgb_roc_auc_score = roc_auc_score(y_test, prediction_probability[ : ,1])"
      ],
      "metadata": {
        "colab": {
          "base_uri": "https://localhost:8080/"
        },
        "id": "MKGWN0AAVfm3",
        "outputId": "52d64dc4-8718-441b-c245-a25f367071ad"
      },
      "execution_count": null,
      "outputs": [
        {
          "output_type": "stream",
          "name": "stdout",
          "text": [
            "0.9063999697698731\n"
          ]
        }
      ]
    },
    {
      "cell_type": "code",
      "source": [
        "# Computef1_score\n",
        "prediction = xgb_clf.predict(X_test)\n",
        "print(f1_score(y_test, prediction, pos_label= 1))\n",
        "xgb_f1_score = f1_score(y_test, prediction, pos_label= 1)"
      ],
      "metadata": {
        "colab": {
          "base_uri": "https://localhost:8080/"
        },
        "id": "Yoxd9GJBVlTy",
        "outputId": "94645510-8944-48f1-991a-2345a080ba11"
      },
      "execution_count": null,
      "outputs": [
        {
          "output_type": "stream",
          "name": "stdout",
          "text": [
            "0.8463476070528968\n"
          ]
        }
      ]
    },
    {
      "cell_type": "code",
      "source": [
        "# calculate recall\n",
        "recall = recall_score(y_test, prediction, labels=[1,0], average='micro')\n",
        "print('Recall: %.3f' % recall)"
      ],
      "metadata": {
        "colab": {
          "base_uri": "https://localhost:8080/"
        },
        "id": "pTNRgySEVvnM",
        "outputId": "0c02dade-fcd1-42e3-9e53-04ec60682ead"
      },
      "execution_count": null,
      "outputs": [
        {
          "output_type": "stream",
          "name": "stdout",
          "text": [
            "Recall: 0.847\n"
          ]
        }
      ]
    },
    {
      "cell_type": "code",
      "source": [
        "from sklearn.metrics import confusion_matrix\n",
        "import matplotlib.pyplot as plt\n",
        "import seaborn as sns\n",
        "confusion_matrix ( y_test , prediction)\n",
        "\n",
        "tn, fp, fn, tp = confusion_matrix ( y_test , prediction).ravel()\n",
        "conf_matrix = pd.DataFrame(\n",
        "    {\n",
        "        'Predicted Fire': [tp, fp],\n",
        "        'Predicted Not Fire': [fn, tn]\n",
        "    }, index=['Fire', 'Not fire'])\n",
        "plot_confusion_matrix(xgb_clf, X_test, y_test)  \n",
        "plt.show()\n",
        "conf_matrix"
      ],
      "metadata": {
        "colab": {
          "base_uri": "https://localhost:8080/",
          "height": 411
        },
        "id": "_TUnAozHbfhi",
        "outputId": "598541ab-ce5a-49bb-cd74-3afc05ac3f3d"
      },
      "execution_count": null,
      "outputs": [
        {
          "output_type": "execute_result",
          "data": {
            "text/plain": [
              "array([[339,  64],\n",
              "       [ 58, 336]])"
            ]
          },
          "metadata": {},
          "execution_count": 94
        },
        {
          "output_type": "execute_result",
          "data": {
            "text/plain": [
              "<sklearn.metrics._plot.confusion_matrix.ConfusionMatrixDisplay at 0x7f471dc75650>"
            ]
          },
          "metadata": {},
          "execution_count": 94
        },
        {
          "output_type": "display_data",
          "data": {
            "text/plain": [
              "<Figure size 432x288 with 2 Axes>"
            ],
            "image/png": "[encoded data removed]"
          },
          "metadata": {
            "needs_background": "light"
          }
        },
        {
          "output_type": "execute_result",
          "data": {
            "text/plain": [
              "          Predicted Fire  Predicted Not Fire\n",
              "Fire                 336                  58\n",
              "Not fire              64                 339"
            ],
            "text/html": [
              "\n",
              "  <div id=\"df-616ec115-0f98-4962-ad97-1e4a211846ba\">\n",
              "    <div class=\"colab-df-container\">\n",
              "      <div>\n",
              "<style scoped>\n",
              "    .dataframe tbody tr th:only-of-type {\n",
              "        vertical-align: middle;\n",
              "    }\n",
              "\n",
              "    .dataframe tbody tr th {\n",
              "        vertical-align: top;\n",
              "    }\n",
              "\n",
              "    .dataframe thead th {\n",
              "        text-align: right;\n",
              "    }\n",
              "</style>\n",
              "<table border=\"1\" class=\"dataframe\">\n",
              "  <thead>\n",
              "    <tr style=\"text-align: right;\">\n",
              "      <th></th>\n",
              "      <th>Predicted Fire</th>\n",
              "      <th>Predicted Not Fire</th>\n",
              "    </tr>\n",
              "  </thead>\n",
              "  <tbody>\n",
              "    <tr>\n",
              "      <th>Fire</th>\n",
              "      <td>336</td>\n",
              "      <td>58</td>\n",
              "    </tr>\n",
              "    <tr>\n",
              "      <th>Not fire</th>\n",
              "      <td>64</td>\n",
              "      <td>339</td>\n",
              "    </tr>\n",
              "  </tbody>\n",
              "</table>\n",
              "</div>\n",
              "      <button class=\"colab-df-convert\" onclick=\"convertToInteractive('df-616ec115-0f98-4962-ad97-1e4a211846ba')\"\n",
              "              title=\"Convert this dataframe to an interactive table.\"\n",
              "              style=\"display:none;\">\n",
              "        \n",
              "  <svg xmlns=\"http://www.w3.org/2000/svg\" height=\"24px\"viewBox=\"0 0 24 24\"\n",
              "       width=\"24px\">\n",
              "    <path d=\"M0 0h24v24H0V0z\" fill=\"none\"/>\n",
              "    <path d=\"M18.56 5.44l.94 2.06.94-2.06 2.06-.94-2.06-.94-.94-2.06-.94 2.06-2.06.94zm-11 1L8.5 8.5l.94-2.06 2.06-.94-2.06-.94L8.5 2.5l-.94 2.06-2.06.94zm10 10l.94 2.06.94-2.06 2.06-.94-2.06-.94-.94-2.06-.94 2.06-2.06.94z\"/><path d=\"M17.41 7.96l-1.37-1.37c-.4-.4-.92-.59-1.43-.59-.52 0-1.04.2-1.43.59L10.3 9.45l-7.72 7.72c-.78.78-.78 2.05 0 2.83L4 21.41c.39.39.9.59 1.41.59.51 0 1.02-.2 1.41-.59l7.78-7.78 2.81-2.81c.8-.78.8-2.07 0-2.86zM5.41 20L4 18.59l7.72-7.72 1.47 1.35L5.41 20z\"/>\n",
              "  </svg>\n",
              "      </button>\n",
              "      \n",
              "  <style>\n",
              "    .colab-df-container {\n",
              "      display:flex;\n",
              "      flex-wrap:wrap;\n",
              "      gap: 12px;\n",
              "    }\n",
              "\n",
              "    .colab-df-convert {\n",
              "      background-color: #E8F0FE;\n",
              "      border: none;\n",
              "      border-radius: 50%;\n",
              "      cursor: pointer;\n",
              "      display: none;\n",
              "      fill: #1967D2;\n",
              "      height: 32px;\n",
              "      padding: 0 0 0 0;\n",
              "      width: 32px;\n",
              "    }\n",
              "\n",
              "    .colab-df-convert:hover {\n",
              "      background-color: #E2EBFA;\n",
              "      box-shadow: 0px 1px 2px rgba(60, 64, 67, 0.3), 0px 1px 3px 1px rgba(60, 64, 67, 0.15);\n",
              "      fill: #174EA6;\n",
              "    }\n",
              "\n",
              "    [theme=dark] .colab-df-convert {\n",
              "      background-color: #3B4455;\n",
              "      fill: #D2E3FC;\n",
              "    }\n",
              "\n",
              "    [theme=dark] .colab-df-convert:hover {\n",
              "      background-color: #434B5C;\n",
              "      box-shadow: 0px 1px 3px 1px rgba(0, 0, 0, 0.15);\n",
              "      filter: drop-shadow(0px 1px 2px rgba(0, 0, 0, 0.3));\n",
              "      fill: #FFFFFF;\n",
              "    }\n",
              "  </style>\n",
              "\n",
              "      <script>\n",
              "        const buttonEl =\n",
              "          document.querySelector('#df-616ec115-0f98-4962-ad97-1e4a211846ba button.colab-df-convert');\n",
              "        buttonEl.style.display =\n",
              "          google.colab.kernel.accessAllowed ? 'block' : 'none';\n",
              "\n",
              "        async function convertToInteractive(key) {\n",
              "          const element = document.querySelector('#df-616ec115-0f98-4962-ad97-1e4a211846ba');\n",
              "          const dataTable =\n",
              "            await google.colab.kernel.invokeFunction('convertToInteractive',\n",
              "                                                     [key], {});\n",
              "          if (!dataTable) return;\n",
              "\n",
              "          const docLinkHtml = 'Like what you see? Visit the ' +\n",
              "            '<a target=\"_blank\" href=https://colab.research.google.com/notebooks/data_table.ipynb>data table notebook</a>'\n",
              "            + ' to learn more about interactive tables.';\n",
              "          element.innerHTML = '';\n",
              "          dataTable['output_type'] = 'display_data';\n",
              "          await google.colab.output.renderOutput(dataTable, element);\n",
              "          const docLink = document.createElement('div');\n",
              "          docLink.innerHTML = docLinkHtml;\n",
              "          element.appendChild(docLink);\n",
              "        }\n",
              "      </script>\n",
              "    </div>\n",
              "  </div>\n",
              "  "
            ]
          },
          "metadata": {},
          "execution_count": 94
        }
      ]
    },
    {
      "cell_type": "code",
      "source": [
        "from sklearn.ensemble import RandomForestClassifier\n",
        "\n",
        "model = RandomForestClassifier(criterion = \"gini\",n_estimators = 50 )\n",
        "model.fit(X_train, y_train)\n",
        "model.score(X_test, y_test)\n",
        "rf_score= model.score(X_test, y_test)"
      ],
      "metadata": {
        "colab": {
          "base_uri": "https://localhost:8080/"
        },
        "id": "7Nz-khdBdKXq",
        "outputId": "835506da-fb89-4dbb-f024-2a11d00b890d"
      },
      "execution_count": null,
      "outputs": [
        {
          "output_type": "execute_result",
          "data": {
            "text/plain": [
              "RandomForestClassifier(n_estimators=50)"
            ]
          },
          "metadata": {},
          "execution_count": 114
        },
        {
          "output_type": "execute_result",
          "data": {
            "text/plain": [
              "0.8506900878293601"
            ]
          },
          "metadata": {},
          "execution_count": 114
        }
      ]
    },
    {
      "cell_type": "code",
      "source": [
        "# Compute ROC AUC Score\n",
        "prediction_probability = model.predict_proba(X_test)\n",
        "print(roc_auc_score(y_test, prediction_probability[ : , 1]))\n",
        "rf_roc_auc_score = roc_auc_score(y_test, prediction_probability[ : , 1])"
      ],
      "metadata": {
        "colab": {
          "base_uri": "https://localhost:8080/"
        },
        "id": "3tKqGZPFdYZx",
        "outputId": "28c61a2d-94d4-4ec0-8a82-d73786dea8ec"
      },
      "execution_count": null,
      "outputs": [
        {
          "output_type": "stream",
          "name": "stdout",
          "text": [
            "0.911973649406104\n"
          ]
        }
      ]
    },
    {
      "cell_type": "code",
      "source": [
        "prediction = model.predict(X_test)\n",
        "print(f1_score(y_test, prediction, pos_label= 1))\n",
        "rf_f1_score= f1_score(y_test, prediction, pos_label= 1)"
      ],
      "metadata": {
        "colab": {
          "base_uri": "https://localhost:8080/"
        },
        "id": "ea_4Aea7deLj",
        "outputId": "3e9ce779-5160-4da5-d4b9-c74a67a1acf3"
      },
      "execution_count": null,
      "outputs": [
        {
          "output_type": "stream",
          "name": "stdout",
          "text": [
            "0.8514357053682895\n"
          ]
        }
      ]
    },
    {
      "cell_type": "code",
      "source": [
        "# calculate recall\n",
        "recall = recall_score(y_test, prediction, labels=[1,0], average='micro')\n",
        "print('Recall: %.3f' % recall)"
      ],
      "metadata": {
        "colab": {
          "base_uri": "https://localhost:8080/"
        },
        "id": "EmeX2kNAdor8",
        "outputId": "5b3da3ca-79d9-43cf-d6ed-98aa916c202b"
      },
      "execution_count": null,
      "outputs": [
        {
          "output_type": "stream",
          "name": "stdout",
          "text": [
            "Recall: 0.851\n"
          ]
        }
      ]
    },
    {
      "cell_type": "code",
      "source": [
        "from sklearn.metrics import confusion_matrix\n",
        "import matplotlib.pyplot as plt\n",
        "import seaborn as sns\n",
        "confusion_matrix ( y_test , prediction)\n",
        "\n",
        "tn, fp, fn, tp = confusion_matrix ( y_test , prediction).ravel()\n",
        "conf_matrix = pd.DataFrame(\n",
        "    {\n",
        "        'Predicted Fire': [tp, fp],\n",
        "        'Predicted Not Fire': [fn, tn]\n",
        "    }, index=['Fire', 'Not fire'])\n",
        "plot_confusion_matrix(model, X_test, y_test)  \n",
        "plt.show()\n",
        "conf_matrix"
      ],
      "metadata": {
        "colab": {
          "base_uri": "https://localhost:8080/",
          "height": 411
        },
        "id": "JvjgDTIedwap",
        "outputId": "d71471d5-dab7-47ea-e1cc-4e84c1769600"
      },
      "execution_count": null,
      "outputs": [
        {
          "output_type": "execute_result",
          "data": {
            "text/plain": [
              "array([[337,  66],\n",
              "       [ 53, 341]])"
            ]
          },
          "metadata": {},
          "execution_count": 118
        },
        {
          "output_type": "execute_result",
          "data": {
            "text/plain": [
              "<sklearn.metrics._plot.confusion_matrix.ConfusionMatrixDisplay at 0x7f471d9a0050>"
            ]
          },
          "metadata": {},
          "execution_count": 118
        },
        {
          "output_type": "display_data",
          "data": {
            "text/plain": [
              "<Figure size 432x288 with 2 Axes>"
            ],
            "image/png": "[encoded data removed]"
          },
          "metadata": {
            "needs_background": "light"
          }
        },
        {
          "output_type": "execute_result",
          "data": {
            "text/plain": [
              "          Predicted Fire  Predicted Not Fire\n",
              "Fire                 341                  53\n",
              "Not fire              66                 337"
            ],
            "text/html": [
              "\n",
              "  <div id=\"df-af77003e-1bb7-4cd4-b292-d3408b7604b5\">\n",
              "    <div class=\"colab-df-container\">\n",
              "      <div>\n",
              "<style scoped>\n",
              "    .dataframe tbody tr th:only-of-type {\n",
              "        vertical-align: middle;\n",
              "    }\n",
              "\n",
              "    .dataframe tbody tr th {\n",
              "        vertical-align: top;\n",
              "    }\n",
              "\n",
              "    .dataframe thead th {\n",
              "        text-align: right;\n",
              "    }\n",
              "</style>\n",
              "<table border=\"1\" class=\"dataframe\">\n",
              "  <thead>\n",
              "    <tr style=\"text-align: right;\">\n",
              "      <th></th>\n",
              "      <th>Predicted Fire</th>\n",
              "      <th>Predicted Not Fire</th>\n",
              "    </tr>\n",
              "  </thead>\n",
              "  <tbody>\n",
              "    <tr>\n",
              "      <th>Fire</th>\n",
              "      <td>341</td>\n",
              "      <td>53</td>\n",
              "    </tr>\n",
              "    <tr>\n",
              "      <th>Not fire</th>\n",
              "      <td>66</td>\n",
              "      <td>337</td>\n",
              "    </tr>\n",
              "  </tbody>\n",
              "</table>\n",
              "</div>\n",
              "      <button class=\"colab-df-convert\" onclick=\"convertToInteractive('df-af77003e-1bb7-4cd4-b292-d3408b7604b5')\"\n",
              "              title=\"Convert this dataframe to an interactive table.\"\n",
              "              style=\"display:none;\">\n",
              "        \n",
              "  <svg xmlns=\"http://www.w3.org/2000/svg\" height=\"24px\"viewBox=\"0 0 24 24\"\n",
              "       width=\"24px\">\n",
              "    <path d=\"M0 0h24v24H0V0z\" fill=\"none\"/>\n",
              "    <path d=\"M18.56 5.44l.94 2.06.94-2.06 2.06-.94-2.06-.94-.94-2.06-.94 2.06-2.06.94zm-11 1L8.5 8.5l.94-2.06 2.06-.94-2.06-.94L8.5 2.5l-.94 2.06-2.06.94zm10 10l.94 2.06.94-2.06 2.06-.94-2.06-.94-.94-2.06-.94 2.06-2.06.94z\"/><path d=\"M17.41 7.96l-1.37-1.37c-.4-.4-.92-.59-1.43-.59-.52 0-1.04.2-1.43.59L10.3 9.45l-7.72 7.72c-.78.78-.78 2.05 0 2.83L4 21.41c.39.39.9.59 1.41.59.51 0 1.02-.2 1.41-.59l7.78-7.78 2.81-2.81c.8-.78.8-2.07 0-2.86zM5.41 20L4 18.59l7.72-7.72 1.47 1.35L5.41 20z\"/>\n",
              "  </svg>\n",
              "      </button>\n",
              "      \n",
              "  <style>\n",
              "    .colab-df-container {\n",
              "      display:flex;\n",
              "      flex-wrap:wrap;\n",
              "      gap: 12px;\n",
              "    }\n",
              "\n",
              "    .colab-df-convert {\n",
              "      background-color: #E8F0FE;\n",
              "      border: none;\n",
              "      border-radius: 50%;\n",
              "      cursor: pointer;\n",
              "      display: none;\n",
              "      fill: #1967D2;\n",
              "      height: 32px;\n",
              "      padding: 0 0 0 0;\n",
              "      width: 32px;\n",
              "    }\n",
              "\n",
              "    .colab-df-convert:hover {\n",
              "      background-color: #E2EBFA;\n",
              "      box-shadow: 0px 1px 2px rgba(60, 64, 67, 0.3), 0px 1px 3px 1px rgba(60, 64, 67, 0.15);\n",
              "      fill: #174EA6;\n",
              "    }\n",
              "\n",
              "    [theme=dark] .colab-df-convert {\n",
              "      background-color: #3B4455;\n",
              "      fill: #D2E3FC;\n",
              "    }\n",
              "\n",
              "    [theme=dark] .colab-df-convert:hover {\n",
              "      background-color: #434B5C;\n",
              "      box-shadow: 0px 1px 3px 1px rgba(0, 0, 0, 0.15);\n",
              "      filter: drop-shadow(0px 1px 2px rgba(0, 0, 0, 0.3));\n",
              "      fill: #FFFFFF;\n",
              "    }\n",
              "  </style>\n",
              "\n",
              "      <script>\n",
              "        const buttonEl =\n",
              "          document.querySelector('#df-af77003e-1bb7-4cd4-b292-d3408b7604b5 button.colab-df-convert');\n",
              "        buttonEl.style.display =\n",
              "          google.colab.kernel.accessAllowed ? 'block' : 'none';\n",
              "\n",
              "        async function convertToInteractive(key) {\n",
              "          const element = document.querySelector('#df-af77003e-1bb7-4cd4-b292-d3408b7604b5');\n",
              "          const dataTable =\n",
              "            await google.colab.kernel.invokeFunction('convertToInteractive',\n",
              "                                                     [key], {});\n",
              "          if (!dataTable) return;\n",
              "\n",
              "          const docLinkHtml = 'Like what you see? Visit the ' +\n",
              "            '<a target=\"_blank\" href=https://colab.research.google.com/notebooks/data_table.ipynb>data table notebook</a>'\n",
              "            + ' to learn more about interactive tables.';\n",
              "          element.innerHTML = '';\n",
              "          dataTable['output_type'] = 'display_data';\n",
              "          await google.colab.output.renderOutput(dataTable, element);\n",
              "          const docLink = document.createElement('div');\n",
              "          docLink.innerHTML = docLinkHtml;\n",
              "          element.appendChild(docLink);\n",
              "        }\n",
              "      </script>\n",
              "    </div>\n",
              "  </div>\n",
              "  "
            ]
          },
          "metadata": {},
          "execution_count": 118
        }
      ]
    },
    {
      "cell_type": "code",
      "source": [
        "from sklearn import metrics"
      ],
      "metadata": {
        "id": "MONyywVMPneF"
      },
      "execution_count": null,
      "outputs": []
    },
    {
      "cell_type": "markdown",
      "metadata": {
        "id": "msQtzn6jE0q5"
      },
      "source": [
        "**SVM WITH BALANCED CLASS**"
      ]
    },
    {
      "cell_type": "code",
      "execution_count": null,
      "metadata": {
        "colab": {
          "base_uri": "https://localhost:8080/"
        },
        "id": "sHFiqzF0Euf-",
        "outputId": "df7a495c-c538-491a-f814-ae5f69186579"
      },
      "outputs": [
        {
          "output_type": "stream",
          "name": "stdout",
          "text": [
            "Fitting 5 folds for each of 60 candidates, totalling 300 fits\n"
          ]
        },
        {
          "output_type": "execute_result",
          "data": {
            "text/plain": [
              "GridSearchCV(cv=5, error_score=0, estimator=SVC(random_state=5), n_jobs=-1,\n",
              "             param_grid={'C': [0.1, 1, 10, 100],\n",
              "                         'gamma': [1, 0.1, 0.01, 0.001, 0.0001],\n",
              "                         'kernel': ['rbf', 'poly', 'sigmoid']},\n",
              "             verbose=3)"
            ]
          },
          "metadata": {},
          "execution_count": 36
        },
        {
          "output_type": "stream",
          "name": "stdout",
          "text": [
            "{'C': 100, 'gamma': 1, 'kernel': 'rbf'}\n",
            "SVC(C=100, gamma=1, random_state=5)\n",
            "              precision    recall  f1-score   support\n",
            "\n",
            "           0       0.79      0.71      0.75       403\n",
            "           1       0.73      0.81      0.77       394\n",
            "\n",
            "    accuracy                           0.76       797\n",
            "   macro avg       0.76      0.76      0.76       797\n",
            "weighted avg       0.76      0.76      0.76       797\n",
            "\n",
            "[[288 115]\n",
            " [ 76 318]]\n"
          ]
        }
      ],
      "source": [
        "#### GRID SEARCH ON SVM \n",
        "clf = SVC(random_state=5)\n",
        "# defining parameter range \n",
        "param_grid = {'C': [0.1,1,10,100],  \n",
        "              'gamma': [1, 0.1, 0.01, 0.001, 0.0001], \n",
        "              'kernel': ['rbf','poly','sigmoid']}  \n",
        "grid = GridSearchCV(clf, param_grid, refit = True, cv = 5, verbose = 3,\n",
        "                    error_score=0,\n",
        "                    n_jobs=-1) \n",
        "  \n",
        "# fitting the model for grid search \n",
        "grid.fit(scaler.fit_transform(X_train), y_train) \n",
        "\n",
        "#### Best Grid search parameter fitting\n",
        "\n",
        "# print best parameter after tuning \n",
        "print(grid.best_params_) \n",
        "  \n",
        "# print how our model looks after hyper-parameter tuning \n",
        "print(grid.best_estimator_) \n",
        "\n",
        "grid_predictions = grid.predict(scaler.transform(X_test)) \n",
        "  \n",
        "# print classification report \n",
        "print(classification_report(y_test, grid_predictions)) \n",
        "print(confusion_matrix(y_test, grid_predictions)) "
      ]
    },
    {
      "cell_type": "markdown",
      "metadata": {
        "id": "tzlCrVsnuE8V"
      },
      "source": [
        "**The standard deviation here is used to understand the uncertainty of the model.**"
      ]
    },
    {
      "cell_type": "code",
      "execution_count": null,
      "metadata": {
        "colab": {
          "base_uri": "https://localhost:8080/"
        },
        "id": "khPn6QieEzHA",
        "outputId": "213e954d-9979-47d1-f3c6-d1496730fcd9"
      },
      "outputs": [
        {
          "output_type": "stream",
          "name": "stdout",
          "text": [
            "[0.78717201 0.80174927 0.79008746 0.82163743 0.78070175]\n",
            "Accuracy: 0.796 (+/- 0.03)\n"
          ]
        }
      ],
      "source": [
        "from sklearn.model_selection import KFold\n",
        "#### Cross val score\n",
        "scores_SVM = cross_val_score(grid.best_estimator_, scaler.fit_transform(X), y, cv=5)\n",
        "print(scores_SVM)\n",
        "#print accuracy and standard deviation \n",
        "print(\"Accuracy: %0.3f (+/- %0.2f)\" % (scores_SVM.mean(), scores_SVM.std() * 2))"
      ]
    },
    {
      "cell_type": "code",
      "execution_count": null,
      "metadata": {
        "colab": {
          "base_uri": "https://localhost:8080/"
        },
        "id": "kOVvv7iISXXK",
        "outputId": "9a4e2fe2-c864-48a0-9a9c-e24f5e44beeb"
      },
      "outputs": [
        {
          "output_type": "stream",
          "name": "stdout",
          "text": [
            "[0.78717201 0.80174927 0.79008746 0.82163743 0.78070175]\n",
            "ROC: 0.702 (+/- 0.03)\n"
          ]
        }
      ],
      "source": [
        "roc_auc_SVM = cross_val_score(grid.best_estimator_, scaler.fit_transform(X), y, cv=5, scoring='roc_auc')\n",
        "print(scores_SVM)\n",
        "#print Roc and standard deviation \n",
        "print(\"ROC: %0.3f (+/- %0.2f)\" % (roc_auc_SVM.mean(), roc_auc_SVM.std() * 2))"
      ]
    },
    {
      "cell_type": "code",
      "execution_count": null,
      "metadata": {
        "id": "3jJi4JwsUJ9W",
        "colab": {
          "base_uri": "https://localhost:8080/"
        },
        "outputId": "3cefdbb2-81ef-484f-8470-e0e314f529fc"
      },
      "outputs": [
        {
          "output_type": "stream",
          "name": "stdout",
          "text": [
            "[0.29126214 0.34615385 0.33333333 0.42990654 0.28571429]\n",
            "f1_score: 0.337 (+/- 0.10)\n"
          ]
        }
      ],
      "source": [
        "f1_score_SVM = cross_val_score(grid.best_estimator_, scaler.fit_transform(X), y, cv=5, scoring='f1')\n",
        "print(f1_score_SVM)\n",
        "#print Roc and standard deviation \n",
        "print(\"f1_score: %0.3f (+/- %0.2f)\" % (f1_score_SVM.mean(), f1_score_SVM.std() * 2))"
      ]
    },
    {
      "cell_type": "code",
      "execution_count": null,
      "metadata": {
        "colab": {
          "base_uri": "https://localhost:8080/"
        },
        "id": "9tvbnW-dXdmk",
        "outputId": "96fa2eff-8f9c-4fb8-bb70-8b88357d6ac3"
      },
      "outputs": [
        {
          "output_type": "stream",
          "name": "stdout",
          "text": [
            "[0.19480519 0.23376623 0.23076923 0.2987013  0.19480519]\n",
            "recall: 0.231 (+/- 0.08)\n"
          ]
        }
      ],
      "source": [
        "recall_score_SVM = cross_val_score(grid.best_estimator_, scaler.fit_transform(X), y, cv=5, scoring='recall')\n",
        "print(recall_score_SVM)\n",
        "#print Roc and standard deviation \n",
        "print(\"recall: %0.3f (+/- %0.2f)\" % (recall_score_SVM.mean(), recall_score_SVM.std() * 2))"
      ]
    },
    {
      "cell_type": "markdown",
      "metadata": {
        "id": "lgW5cMrEFYdN"
      },
      "source": [
        "**BAGGING CLASSIFER (Built on SVM with Balanced Class)**"
      ]
    },
    {
      "cell_type": "code",
      "execution_count": null,
      "metadata": {
        "colab": {
          "base_uri": "https://localhost:8080/"
        },
        "id": "BOq3PaPdFScw",
        "outputId": "c19fa937-143b-4c04-be76-2c11dbdb9545"
      },
      "outputs": [
        {
          "output_type": "stream",
          "name": "stdout",
          "text": [
            "Fitting 5 folds for each of 100 candidates, totalling 500 fits\n"
          ]
        },
        {
          "output_type": "execute_result",
          "data": {
            "text/plain": [
              "GridSearchCV(cv=5, error_score=0,\n",
              "             estimator=BaggingClassifier(base_estimator=SVC(C=100, gamma=1,\n",
              "                                                            random_state=5),\n",
              "                                         n_jobs=-1, random_state=5),\n",
              "             n_jobs=-1,\n",
              "             param_grid={'max_features': [1, 3, 5, 7, 9, 11, 13, 15, 17, 19],\n",
              "                         'n_estimators': [10, 20, 30, 40, 50, 60, 70, 80, 90,\n",
              "                                          100]},\n",
              "             verbose=3)"
            ]
          },
          "metadata": {},
          "execution_count": 41
        },
        {
          "output_type": "stream",
          "name": "stdout",
          "text": [
            "{'max_features': 3, 'n_estimators': 80}\n",
            "BaggingClassifier(base_estimator=SVC(C=100, gamma=1, random_state=5),\n",
            "                  max_features=3, n_estimators=80, n_jobs=-1, random_state=5)\n",
            "              precision    recall  f1-score   support\n",
            "\n",
            "           0       0.79      0.73      0.76       403\n",
            "           1       0.74      0.80      0.77       394\n",
            "\n",
            "    accuracy                           0.77       797\n",
            "   macro avg       0.77      0.77      0.77       797\n",
            "weighted avg       0.77      0.77      0.77       797\n",
            "\n",
            "[[294 109]\n",
            " [ 77 317]]\n"
          ]
        }
      ],
      "source": [
        "#grid search for bagging classifier using the SVM classifer obtained above \n",
        "\n",
        "bag = BaggingClassifier(grid.best_estimator_, n_jobs=-1, random_state=5)\n",
        "\n",
        "param_grid = {'n_estimators': list(range(0, 110, 10))[1:],  'max_features': list (range(1,21, 2))}  \n",
        "\n",
        "grid = GridSearchCV(bag, param_grid, refit = True, cv = 5, verbose = 3,\n",
        "                    error_score=0,\n",
        "                    n_jobs=-1) \n",
        "  \n",
        "# fitting the model for grid search \n",
        "grid.fit(scaler.fit_transform(X_train), y_train) \n",
        "\n",
        "#### Best Grid search parameter fitting\n",
        "\n",
        "# print best parameter after tuning \n",
        "print(grid.best_params_) \n",
        "  \n",
        "# print how our model looks after hyper-parameter tuning \n",
        "print(grid.best_estimator_) \n",
        "\n",
        "grid_predictions = grid.predict(scaler.transform(X_test)) \n",
        "  \n",
        "# print classification report \n",
        "print(classification_report(y_test, grid_predictions)) \n",
        "print(confusion_matrix(y_test, grid_predictions)) "
      ]
    },
    {
      "cell_type": "code",
      "execution_count": null,
      "metadata": {
        "colab": {
          "base_uri": "https://localhost:8080/"
        },
        "id": "yfnpPOPtGFV-",
        "outputId": "cfb71c4c-6366-40e1-ad48-88d31417d246"
      },
      "outputs": [
        {
          "output_type": "stream",
          "name": "stdout",
          "text": [
            "Accuracy: 0.7916 (+/- 0.0229)\n"
          ]
        }
      ],
      "source": [
        "from sklearn.model_selection import cross_val_score\n",
        "#bagging classifier (SVM)\n",
        "scores_BAG = cross_val_score(grid.best_estimator_, scaler.fit_transform(X), y, cv=5)\n",
        "#print accuracy and standard deviation\n",
        "print(\"Accuracy: %0.4f (+/- %0.4f)\" % (scores_BAG.mean(), scores_BAG.std() * 2))"
      ]
    },
    {
      "cell_type": "code",
      "execution_count": null,
      "metadata": {
        "colab": {
          "base_uri": "https://localhost:8080/"
        },
        "id": "9fLCUSkMUyNG",
        "outputId": "4d3084de-981d-4069-d065-beb79092c886"
      },
      "outputs": [
        {
          "output_type": "stream",
          "name": "stdout",
          "text": [
            "[0.7481203  0.7646226  0.73265602 0.69948542 0.71737319]\n",
            "ROC: 0.732 (+/- 0.05)\n"
          ]
        }
      ],
      "source": [
        "roc_auc_BAG = cross_val_score(grid.best_estimator_, scaler.fit_transform(X), y, cv=5, scoring='roc_auc')\n",
        "print(roc_auc_BAG )\n",
        "#print Roc and standard deviation \n",
        "print(\"ROC: %0.3f (+/- %0.2f)\" % (roc_auc_BAG .mean(), roc_auc_BAG .std() * 2))"
      ]
    },
    {
      "cell_type": "code",
      "execution_count": null,
      "metadata": {
        "colab": {
          "base_uri": "https://localhost:8080/"
        },
        "id": "XaUdqjJYXHDu",
        "outputId": "5e9c2a34-8128-47c2-e365-45f863a09ca8"
      },
      "outputs": [
        {
          "output_type": "stream",
          "name": "stdout",
          "text": [
            "[0.26262626 0.35514019 0.32727273 0.39252336 0.26923077]\n",
            "f1_score: 0.321 (+/- 0.10)\n"
          ]
        }
      ],
      "source": [
        "f1_score_BAG = cross_val_score(grid.best_estimator_, scaler.fit_transform(X), y, cv=5, scoring='f1')\n",
        "print(f1_score_BAG)\n",
        "#print Roc and standard deviation \n",
        "print(\"f1_score: %0.3f (+/- %0.2f)\" % (f1_score_BAG.mean(), f1_score_BAG.std() * 2))"
      ]
    },
    {
      "cell_type": "markdown",
      "metadata": {
        "id": "6N96N4x9GyZm"
      },
      "source": [
        "**EXTRA TREES CLASSIFIER**"
      ]
    },
    {
      "cell_type": "code",
      "execution_count": null,
      "metadata": {
        "colab": {
          "base_uri": "https://localhost:8080/"
        },
        "id": "sBam5MkCG6TD",
        "outputId": "baea749e-be30-4347-c0c0-8df4de377b08"
      },
      "outputs": [
        {
          "output_type": "stream",
          "name": "stdout",
          "text": [
            "Fitting 5 folds for each of 1000 candidates, totalling 5000 fits\n"
          ]
        },
        {
          "output_type": "execute_result",
          "data": {
            "text/plain": [
              "GridSearchCV(cv=5, error_score=0,\n",
              "             estimator=ExtraTreesClassifier(n_jobs=-1, random_state=5),\n",
              "             n_jobs=-1,\n",
              "             param_grid={'max_depth': [1, 3, 5, 7, 9, 11, 13, 15, 17, 19],\n",
              "                         'max_features': [1, 3, 5, 7, 9, 11, 13, 15, 17, 19],\n",
              "                         'n_estimators': [10, 20, 30, 40, 50, 60, 70, 80, 90,\n",
              "                                          100]},\n",
              "             verbose=3)"
            ]
          },
          "metadata": {},
          "execution_count": 45
        },
        {
          "output_type": "stream",
          "name": "stdout",
          "text": [
            "{'max_depth': 17, 'max_features': 3, 'n_estimators': 40}\n",
            "ExtraTreesClassifier(max_depth=17, max_features=3, n_estimators=40, n_jobs=-1,\n",
            "                     random_state=5)\n",
            "              precision    recall  f1-score   support\n",
            "\n",
            "           0       0.86      0.80      0.83       403\n",
            "           1       0.81      0.86      0.84       394\n",
            "\n",
            "    accuracy                           0.83       797\n",
            "   macro avg       0.83      0.83      0.83       797\n",
            "weighted avg       0.83      0.83      0.83       797\n",
            "\n",
            "[[323  80]\n",
            " [ 54 340]]\n"
          ]
        }
      ],
      "source": [
        "#### GRID SEARCH for extra trees classifier \n",
        "\n",
        "ext = ExtraTreesClassifier(n_jobs=-1, random_state=5)\n",
        "# defining parameter range \n",
        "param_grid = {'n_estimators': list(range(0, 110, 10))[1:],  'max_features': list (range(1,21, 2)), 'max_depth' :list(range(1,21, 2))}  \n",
        "  \n",
        "\n",
        "grid = GridSearchCV(ext, param_grid, refit = True, cv = 5, verbose = 3,\n",
        "                    error_score=0,\n",
        "                    n_jobs=-1) \n",
        "  \n",
        "# fitting the model for grid search \n",
        "grid.fit(scaler.fit_transform(X_train), y_train) \n",
        "\n",
        "#### Best Grid search parameter fitting\n",
        "\n",
        "# print best parameter after tuning \n",
        "print(grid.best_params_) \n",
        "  \n",
        "# print how our model looks after hyper-parameter tuning \n",
        "print(grid.best_estimator_) \n",
        "\n",
        "grid_predictions = grid.predict(scaler.transform(X_test)) \n",
        "  \n",
        "# print classification report \n",
        "print(classification_report(y_test, grid_predictions)) \n",
        "print(confusion_matrix(y_test, grid_predictions)) "
      ]
    },
    {
      "cell_type": "code",
      "execution_count": null,
      "metadata": {
        "colab": {
          "base_uri": "https://localhost:8080/"
        },
        "id": "JMZwk0ElGEwE",
        "outputId": "9882b1e7-5d6d-4c85-f5f9-545a432a9ef3"
      },
      "outputs": [
        {
          "output_type": "stream",
          "name": "stdout",
          "text": [
            "Accuracy: 0.8324 (+/- 0.0240)\n"
          ]
        }
      ],
      "source": [
        "#Accuracy for extra trees classifier \n",
        "scores_EXT = cross_val_score(grid.best_estimator_, scaler.fit_transform(X), y, cv=5)\n",
        "#print accuracy and standard deviation \n",
        "print(\"Accuracy: %0.4f (+/- %0.4f)\" % (scores_EXT.mean(), scores_EXT.std() * 2))"
      ]
    },
    {
      "cell_type": "markdown",
      "metadata": {
        "id": "-UWCO1EjGK1I"
      },
      "source": [
        "**ADABOOST CLASSIFIER**"
      ]
    },
    {
      "cell_type": "code",
      "execution_count": null,
      "metadata": {
        "colab": {
          "base_uri": "https://localhost:8080/"
        },
        "id": "ecZdHEzaGRX8",
        "outputId": "a3463658-8793-41b9-c6db-a155d649bf41"
      },
      "outputs": [
        {
          "output_type": "stream",
          "name": "stdout",
          "text": [
            "Fitting 5 folds for each of 50 candidates, totalling 250 fits\n"
          ]
        },
        {
          "output_type": "execute_result",
          "data": {
            "text/plain": [
              "GridSearchCV(cv=5, error_score=0,\n",
              "             estimator=AdaBoostClassifier(base_estimator=DecisionTreeClassifier(class_weight='balanced',\n",
              "                                                                                max_depth=1),\n",
              "                                          random_state=5),\n",
              "             n_jobs=-1,\n",
              "             param_grid={'learning_rate': [0.2, 0.4, 0.6, 0.8, 1],\n",
              "                         'n_estimators': [10, 20, 30, 40, 50, 60, 70, 80, 90,\n",
              "                                          100]},\n",
              "             verbose=3)"
            ]
          },
          "metadata": {},
          "execution_count": 47
        },
        {
          "output_type": "stream",
          "name": "stdout",
          "text": [
            "{'learning_rate': 1, 'n_estimators': 80}\n",
            "AdaBoostClassifier(base_estimator=DecisionTreeClassifier(class_weight='balanced',\n",
            "                                                         max_depth=1),\n",
            "                   learning_rate=1, n_estimators=80, random_state=5)\n",
            "              precision    recall  f1-score   support\n",
            "\n",
            "           0       0.76      0.74      0.75       403\n",
            "           1       0.74      0.76      0.75       394\n",
            "\n",
            "    accuracy                           0.75       797\n",
            "   macro avg       0.75      0.75      0.75       797\n",
            "weighted avg       0.75      0.75      0.75       797\n",
            "\n",
            "[[300 103]\n",
            " [ 95 299]]\n"
          ]
        }
      ],
      "source": [
        "#### GRID SEARCH for Ada bosst classifier \n",
        "\n",
        "adb = AdaBoostClassifier(base_estimator=DecisionTreeClassifier(max_depth=1, class_weight='balanced'), random_state=5)\n",
        "# defining parameter range \n",
        "param_grid = {'n_estimators': list(range(0, 110, 10))[1:],  'learning_rate': [0.2, 0.4, 0.6, 0.8, 1]}  \n",
        "  \n",
        "\n",
        "grid = GridSearchCV(adb, param_grid, refit = True, cv = 5, verbose = 3,\n",
        "                    error_score=0,\n",
        "                    n_jobs=-1) \n",
        "  \n",
        "# fitting the model for grid search \n",
        "grid.fit(scaler.fit_transform(X_train), y_train) \n",
        "\n",
        "#### Best Grid search parameter fitting\n",
        "\n",
        "# print best parameter after tuning \n",
        "print(grid.best_params_) \n",
        "  \n",
        "# print how our model looks after hyper-parameter tuning \n",
        "print(grid.best_estimator_) \n",
        "\n",
        "grid_predictions = grid.predict(scaler.transform(X_test)) \n",
        "  \n",
        "# print classification report \n",
        "print(classification_report(y_test, grid_predictions)) \n",
        "print(confusion_matrix(y_test, grid_predictions)) "
      ]
    },
    {
      "cell_type": "code",
      "execution_count": null,
      "metadata": {
        "colab": {
          "base_uri": "https://localhost:8080/"
        },
        "id": "Y_sjHlEiGWPN",
        "outputId": "5fc58705-707a-424e-a06f-536b21f2ce51"
      },
      "outputs": [
        {
          "output_type": "stream",
          "name": "stdout",
          "text": [
            "Accuracy: 0.6889 (+/- 0.0527)\n"
          ]
        }
      ],
      "source": [
        "#Adaboost classifier \n",
        "scores_ADB = cross_val_score(grid.best_estimator_, scaler.fit_transform(X), y, cv=5)\n",
        "\n",
        "#print accuracy and standard deviation\n",
        "print(\"Accuracy: %0.4f (+/- %0.4f)\" % (scores_ADB.mean(), scores_ADB.std() * 2))"
      ]
    },
    {
      "cell_type": "markdown",
      "metadata": {
        "id": "dBfHoDMvGeP-"
      },
      "source": [
        "**GRADIENT BOOSTING**"
      ]
    },
    {
      "cell_type": "code",
      "execution_count": null,
      "metadata": {
        "colab": {
          "base_uri": "https://localhost:8080/"
        },
        "id": "PIy3lfClGm2o",
        "outputId": "1b717c92-7c1b-4f84-818c-e45ae1486fee"
      },
      "outputs": [
        {
          "output_type": "stream",
          "name": "stdout",
          "text": [
            "Fitting 5 folds for each of 1000 candidates, totalling 5000 fits\n"
          ]
        },
        {
          "output_type": "execute_result",
          "data": {
            "text/plain": [
              "GridSearchCV(cv=5, error_score=0,\n",
              "             estimator=GradientBoostingClassifier(random_state=5,\n",
              "                                                  subsample=0.289),\n",
              "             n_jobs=-1,\n",
              "             param_grid={'max_depth': [1, 3, 5, 7, 9, 11, 13, 15, 17, 19],\n",
              "                         'max_features': [1, 3, 5, 7, 9, 11, 13, 15, 17, 19],\n",
              "                         'n_estimators': [10, 20, 30, 40, 50, 60, 70, 80, 90,\n",
              "                                          100]},\n",
              "             verbose=3)"
            ]
          },
          "metadata": {},
          "execution_count": 49
        },
        {
          "output_type": "stream",
          "name": "stdout",
          "text": [
            "{'max_depth': 11, 'max_features': 1, 'n_estimators': 90}\n",
            "GradientBoostingClassifier(max_depth=11, max_features=1, n_estimators=90,\n",
            "                           random_state=5, subsample=0.289)\n",
            "              precision    recall  f1-score   support\n",
            "\n",
            "           0       0.86      0.84      0.85       403\n",
            "           1       0.84      0.86      0.85       394\n",
            "\n",
            "    accuracy                           0.85       797\n",
            "   macro avg       0.85      0.85      0.85       797\n",
            "weighted avg       0.85      0.85      0.85       797\n",
            "\n",
            "[[340  63]\n",
            " [ 54 340]]\n"
          ]
        }
      ],
      "source": [
        "#Gradient Boosting \n",
        "gb_clf2 = GradientBoostingClassifier( subsample=0.289, random_state=5)\n",
        "# defining parameter range \n",
        "param_grid = {'n_estimators': list(range(0, 110, 10))[1:],  'max_features': list (range(1,21, 2)), 'max_depth' :list(range(1,21, 2))}  \n",
        "  \n",
        "\n",
        "grid = GridSearchCV(gb_clf2, param_grid, refit = True, cv = 5, verbose = 3,\n",
        "                    error_score=0,\n",
        "                    n_jobs=-1) \n",
        "  \n",
        "# fitting the model for grid search \n",
        "grid.fit(scaler.fit_transform(X_train), y_train) \n",
        "\n",
        "#### Best Grid search parameter fitting\n",
        "\n",
        "# print best parameter after tuning \n",
        "print(grid.best_params_) \n",
        "  \n",
        "# print how our model looks after hyper-parameter tuning \n",
        "print(grid.best_estimator_) \n",
        "\n",
        "grid_predictions = grid.predict(scaler.transform(X_test)) \n",
        "  \n",
        "# print classification report \n",
        "print(classification_report(y_test, grid_predictions)) \n",
        "print(confusion_matrix(y_test, grid_predictions)) "
      ]
    },
    {
      "cell_type": "code",
      "execution_count": null,
      "metadata": {
        "colab": {
          "base_uri": "https://localhost:8080/"
        },
        "id": "QbjvJDjiGutR",
        "outputId": "55627e64-8fc5-4458-a3ac-1d1d3460a5e3"
      },
      "outputs": [
        {
          "output_type": "stream",
          "name": "stdout",
          "text": [
            "Accuracy: 0.8342 (+/- 0.0178)\n"
          ]
        }
      ],
      "source": [
        "#Gradient boosting classfier \n",
        "scores_GB = cross_val_score(grid.best_estimator_, scaler.fit_transform(X), y, cv=5)\n",
        "\n",
        "#print accuracy and standard deviation\n",
        "print(\"Accuracy: %0.4f (+/- %0.4f)\" % (scores_GB.mean(), scores_GB.std() * 2))"
      ]
    },
    {
      "cell_type": "markdown",
      "metadata": {
        "id": "x-FuCfT_G684"
      },
      "source": [
        "**XGBOOST**"
      ]
    },
    {
      "cell_type": "code",
      "execution_count": null,
      "metadata": {
        "colab": {
          "base_uri": "https://localhost:8080/"
        },
        "id": "gMcD2aXsG863",
        "outputId": "8b1ffae7-e544-43dc-d096-84dd6edb26da"
      },
      "outputs": [
        {
          "output_type": "stream",
          "name": "stdout",
          "text": [
            "Fitting 5 folds for each of 1000 candidates, totalling 5000 fits\n"
          ]
        },
        {
          "output_type": "execute_result",
          "data": {
            "text/plain": [
              "GridSearchCV(cv=5, error_score=0, estimator=XGBClassifier(random_state=5),\n",
              "             n_jobs=-1,\n",
              "             param_grid={'max_depth': [1, 3, 5, 7, 9, 11, 13, 15, 17, 19],\n",
              "                         'max_features': [1, 3, 5, 7, 9, 11, 13, 15, 17, 19],\n",
              "                         'n_estimators': [10, 20, 30, 40, 50, 60, 70, 80, 90,\n",
              "                                          100]},\n",
              "             verbose=3)"
            ]
          },
          "metadata": {},
          "execution_count": 51
        },
        {
          "output_type": "stream",
          "name": "stdout",
          "text": [
            "{'max_depth': 17, 'max_features': 1, 'n_estimators': 80}\n",
            "XGBClassifier(max_depth=17, max_features=1, n_estimators=80, random_state=5)\n",
            "              precision    recall  f1-score   support\n",
            "\n",
            "           0       0.87      0.83      0.85       403\n",
            "           1       0.84      0.87      0.85       394\n",
            "\n",
            "    accuracy                           0.85       797\n",
            "   macro avg       0.85      0.85      0.85       797\n",
            "weighted avg       0.85      0.85      0.85       797\n",
            "\n",
            "[[336  67]\n",
            " [ 51 343]]\n"
          ]
        }
      ],
      "source": [
        "xg_clf = xgb.XGBClassifier(random_state=5)\n",
        "\n",
        "param_grid = {'n_estimators': list(range(0, 110, 10))[1:] ,  'max_features': list (range(1,21, 2)), 'max_depth':list(range(1,21, 2))}  \n",
        "  \n",
        "\n",
        "grid = GridSearchCV(xg_clf , param_grid, refit = True, cv = 5, verbose = 3,\n",
        "                    error_score=0,\n",
        "                    n_jobs=-1) \n",
        "  \n",
        "# fitting the model for grid search \n",
        "grid.fit(scaler.fit_transform(X_train), y_train) \n",
        "\n",
        "#### Best Grid search parameter fitting\n",
        "\n",
        "# print best parameter after tuning \n",
        "print(grid.best_params_) \n",
        "  \n",
        "# print how our model looks after hyper-parameter tuning \n",
        "print(grid.best_estimator_) \n",
        "\n",
        "grid_predictions = grid.predict(scaler.transform(X_test)) \n",
        "  \n",
        "# print classification report \n",
        "print(classification_report(y_test, grid_predictions)) \n",
        "print(confusion_matrix(y_test, grid_predictions)) "
      ]
    },
    {
      "cell_type": "code",
      "execution_count": null,
      "metadata": {
        "colab": {
          "base_uri": "https://localhost:8080/"
        },
        "id": "xePRNnwvHAy_",
        "outputId": "95dc232c-aa67-4705-90be-8c1eb85239a2"
      },
      "outputs": [
        {
          "output_type": "stream",
          "name": "stdout",
          "text": [
            "Accuracy: 0.8243 (+/- 0.0436)\n"
          ]
        }
      ],
      "source": [
        "#Extreme Gradient Boosting classifier \n",
        "scores_XGB = cross_val_score(grid.best_estimator_, scaler.fit_transform(X), y, cv=5)\n",
        "\n",
        "#print accuracy and standard deviation\n",
        "print(\"Accuracy: %0.4f (+/- %0.4f)\" % (scores_XGB.mean(), scores_XGB.std() * 2))"
      ]
    },
    {
      "cell_type": "markdown",
      "metadata": {
        "id": "Ub3ZaI7fHGru"
      },
      "source": [
        "**RANDOM FOREST**"
      ]
    },
    {
      "cell_type": "code",
      "execution_count": null,
      "metadata": {
        "colab": {
          "base_uri": "https://localhost:8080/"
        },
        "id": "CgKVpnLXHMA0",
        "outputId": "67ee8d5a-6be2-4b9f-e472-985ffec351bc"
      },
      "outputs": [
        {
          "output_type": "stream",
          "name": "stdout",
          "text": [
            "Fitting 5 folds for each of 1000 candidates, totalling 5000 fits\n"
          ]
        },
        {
          "output_type": "execute_result",
          "data": {
            "text/plain": [
              "GridSearchCV(cv=5, error_score=0,\n",
              "             estimator=RandomForestClassifier(random_state=5), n_jobs=-1,\n",
              "             param_grid={'max_depth': [2, 4, 6, 8, 10, 12, 14, 16, 18, 20],\n",
              "                         'max_features': [1, 3, 5, 7, 9, 11, 13, 15, 17, 19],\n",
              "                         'n_estimators': [10, 20, 30, 40, 50, 60, 70, 80, 90,\n",
              "                                          100]},\n",
              "             verbose=3)"
            ]
          },
          "metadata": {},
          "execution_count": 53
        },
        {
          "output_type": "stream",
          "name": "stdout",
          "text": [
            "{'max_depth': 20, 'max_features': 3, 'n_estimators': 50}\n",
            "RandomForestClassifier(max_depth=20, max_features=3, n_estimators=50,\n",
            "                       random_state=5)\n",
            "              precision    recall  f1-score   support\n",
            "\n",
            "           0       0.85      0.83      0.84       403\n",
            "           1       0.83      0.86      0.84       394\n",
            "\n",
            "    accuracy                           0.84       797\n",
            "   macro avg       0.84      0.84      0.84       797\n",
            "weighted avg       0.84      0.84      0.84       797\n",
            "\n",
            "[[336  67]\n",
            " [ 57 337]]\n"
          ]
        }
      ],
      "source": [
        "#Random Forest\n",
        "\n",
        "rf_clf2 = RandomForestClassifier(random_state=5)\n",
        "\n",
        "\n",
        "param_grid = {'n_estimators': list(range(0, 110, 10))[1:], 'max_features': list (range(1,21, 2)), 'max_depth' :list(range(0,21, 2))[1:]}  \n",
        "  \n",
        "\n",
        "grid = GridSearchCV(rf_clf2 , param_grid, refit = True, cv = 5, verbose = 3,\n",
        "                    error_score=0,\n",
        "                    n_jobs=-1) \n",
        "  \n",
        "# fitting the model for grid search \n",
        "grid.fit(scaler.fit_transform(X_train), y_train) \n",
        "\n",
        "#### Best Grid search parameter fitting\n",
        "\n",
        "# print best parameter after tuning \n",
        "print(grid.best_params_) \n",
        "  \n",
        "# print how our model looks after hyper-parameter tuning \n",
        "print(grid.best_estimator_) \n",
        "\n",
        "grid_predictions = grid.predict(scaler.transform(X_test)) \n",
        "  \n",
        "# print classification report \n",
        "print(classification_report(y_test, grid_predictions)) \n",
        "print(confusion_matrix(y_test, grid_predictions)) "
      ]
    },
    {
      "cell_type": "code",
      "execution_count": null,
      "metadata": {
        "colab": {
          "base_uri": "https://localhost:8080/"
        },
        "id": "dcxAD0j8HQ4C",
        "outputId": "3152e7f5-fad0-40a9-8626-43ff0afec00d"
      },
      "outputs": [
        {
          "output_type": "stream",
          "name": "stdout",
          "text": [
            "Accuracy: 0.8289 (+/- 0.0338)\n"
          ]
        }
      ],
      "source": [
        "#Random Forest classfier \n",
        "scores_RF = cross_val_score(grid.best_estimator_, scaler.fit_transform(X), y, cv=5)\n",
        "\n",
        "#print accuracy and standard deviation\n",
        "print(\"Accuracy: %0.4f (+/- %0.4f)\" % (scores_RF.mean(), scores_RF.std() * 2))"
      ]
    },
    {
      "cell_type": "code",
      "execution_count": null,
      "metadata": {
        "colab": {
          "base_uri": "https://localhost:8080/"
        },
        "id": "fAbDPnSIFdHv",
        "outputId": "56293146-80f1-4a4e-9f3b-72ded3e63510"
      },
      "outputs": [
        {
          "output_type": "stream",
          "name": "stdout",
          "text": [
            "[0.83090379 0.85131195 0.8425656  0.8128655  0.80701754]\n",
            "ROC: 0.817 (+/- 0.06)\n"
          ]
        }
      ],
      "source": [
        "roc_auc_RF = cross_val_score(grid.best_estimator_, scaler.fit_transform(X), y, cv=5, scoring='roc_auc')\n",
        "print(scores_RF)\n",
        "#print Roc and standard deviation \n",
        "print(\"ROC: %0.3f (+/- %0.2f)\" % (roc_auc_RF.mean(), roc_auc_RF.std() * 2))"
      ]
    },
    {
      "cell_type": "code",
      "execution_count": null,
      "metadata": {
        "colab": {
          "base_uri": "https://localhost:8080/"
        },
        "id": "bx_2Gea4bhNU",
        "outputId": "d733f4f7-9620-4af1-f930-1468e9462df4"
      },
      "outputs": [
        {
          "output_type": "stream",
          "name": "stdout",
          "text": [
            "[0.57971014 0.61068702 0.57142857 0.52238806 0.51470588]\n",
            "f1_score: 0.560 (+/- 0.07)\n"
          ]
        }
      ],
      "source": [
        "f1_score_RF = cross_val_score(grid.best_estimator_, scaler.fit_transform(X), y, cv=5, scoring='f1')\n",
        "print(f1_score_RF)\n",
        "#print Roc and standard deviation \n",
        "print(\"f1_score: %0.3f (+/- %0.2f)\" % (f1_score_RF.mean(), f1_score_RF.std() * 2))"
      ]
    },
    {
      "cell_type": "code",
      "execution_count": null,
      "metadata": {
        "colab": {
          "base_uri": "https://localhost:8080/"
        },
        "id": "NHPZ9nYjbsnt",
        "outputId": "5d4c7453-1636-400e-c556-1ee8e1446998"
      },
      "outputs": [
        {
          "output_type": "stream",
          "name": "stdout",
          "text": [
            "[0.51948052 0.51948052 0.46153846 0.45454545 0.45454545]\n",
            "recall: 0.482 (+/- 0.06)\n"
          ]
        }
      ],
      "source": [
        "recall_score_RF = cross_val_score(grid.best_estimator_, scaler.fit_transform(X), y, cv=5, scoring='recall')\n",
        "print(recall_score_RF)\n",
        "#print Roc and standard deviation \n",
        "print(\"recall: %0.3f (+/- %0.2f)\" % (recall_score_RF.mean(), recall_score_RF.std() * 2))"
      ]
    },
    {
      "cell_type": "markdown",
      "metadata": {
        "id": "VUiv6Lp4HWmE"
      },
      "source": [
        "**NEURAL NETWORK**"
      ]
    },
    {
      "cell_type": "code",
      "execution_count": null,
      "metadata": {
        "colab": {
          "base_uri": "https://localhost:8080/"
        },
        "id": "r15CGp5bHcvT",
        "outputId": "499e3b5b-7804-4718-fb6a-96f2f7fe46ea"
      },
      "outputs": [
        {
          "output_type": "stream",
          "name": "stdout",
          "text": [
            "Fitting 5 folds for each of 10 candidates, totalling 50 fits\n"
          ]
        },
        {
          "output_type": "execute_result",
          "data": {
            "text/plain": [
              "GridSearchCV(cv=5, error_score=0,\n",
              "             estimator=MLPClassifier(alpha=1, hidden_layer_sizes=30,\n",
              "                                     random_state=5),\n",
              "             n_jobs=-1,\n",
              "             param_grid={'hidden_layer_sizes': [5, 10, 15, 20, 25, 30, 35, 40,\n",
              "                                                45, 50]},\n",
              "             verbose=3)"
            ]
          },
          "metadata": {},
          "execution_count": 58
        },
        {
          "output_type": "stream",
          "name": "stdout",
          "text": [
            "{'hidden_layer_sizes': 50}\n",
            "MLPClassifier(alpha=1, hidden_layer_sizes=50, random_state=5)\n",
            "              precision    recall  f1-score   support\n",
            "\n",
            "           0       0.72      0.62      0.67       403\n",
            "           1       0.66      0.75      0.70       394\n",
            "\n",
            "    accuracy                           0.69       797\n",
            "   macro avg       0.69      0.69      0.69       797\n",
            "weighted avg       0.69      0.69      0.69       797\n",
            "\n",
            "[[251 152]\n",
            " [ 98 296]]\n"
          ]
        }
      ],
      "source": [
        "ml_clf2 = MLPClassifier(hidden_layer_sizes=30\n",
        "                        , activation='relu', solver='adam', alpha=1, random_state=5,)\n",
        "param_grid = {'hidden_layer_sizes': list(range(0, 51, 5))[1:]}  \n",
        "  \n",
        "\n",
        "grid = GridSearchCV(ml_clf2 , param_grid, refit = True, cv = 5, verbose = 3,\n",
        "                    error_score=0,\n",
        "                    n_jobs=-1) \n",
        "  \n",
        "# fitting the model for grid search \n",
        "grid.fit(scaler.fit_transform(X_train), y_train) \n",
        "\n",
        "#### Best Grid search parameter fitting\n",
        "\n",
        "# print best parameter after tuning \n",
        "print(grid.best_params_) \n",
        "  \n",
        "# print how our model looks after hyper-parameter tuning \n",
        "print(grid.best_estimator_) \n",
        "\n",
        "grid_predictions = grid.predict(scaler.transform(X_test)) \n",
        "  \n",
        "# print classification report \n",
        "print(classification_report(y_test, grid_predictions)) \n",
        "print(confusion_matrix(y_test, grid_predictions)) "
      ]
    },
    {
      "cell_type": "code",
      "execution_count": null,
      "metadata": {
        "colab": {
          "base_uri": "https://localhost:8080/"
        },
        "id": "fDgiXuLfHid5",
        "outputId": "be27932b-984e-493e-c81d-63b78bf06902"
      },
      "outputs": [
        {
          "output_type": "stream",
          "name": "stdout",
          "text": [
            "Accuracy: 0.7828 (+/- 0.0150)\n"
          ]
        }
      ],
      "source": [
        "#MLP Classifier\n",
        "scores_NN = cross_val_score(grid.best_estimator_, scaler.fit_transform(X), y, cv=5)\n",
        "\n",
        "#print accuracy and standard deviation\n",
        "print(\"Accuracy: %0.4f (+/- %0.4f)\" % (scores_NN.mean(), scores_NN.std() * 2))"
      ]
    },
    {
      "cell_type": "markdown",
      "metadata": {
        "id": "sXoutlsIHoLe"
      },
      "source": [
        "**NEAREST NEIGHBOUR**"
      ]
    },
    {
      "cell_type": "code",
      "execution_count": null,
      "metadata": {
        "colab": {
          "base_uri": "https://localhost:8080/"
        },
        "id": "Vc9mhMjLHt1D",
        "outputId": "d05f23b3-091e-42f6-c0e3-4930a96ac913"
      },
      "outputs": [
        {
          "output_type": "stream",
          "name": "stdout",
          "text": [
            "Fitting 5 folds for each of 7 candidates, totalling 35 fits\n"
          ]
        },
        {
          "output_type": "execute_result",
          "data": {
            "text/plain": [
              "GridSearchCV(cv=5, error_score=0,\n",
              "             estimator=KNeighborsClassifier(algorithm='brute', n_neighbors=3),\n",
              "             n_jobs=-1, param_grid={'n_neighbors': [1, 3, 5, 7, 9, 11, 13]},\n",
              "             verbose=3)"
            ]
          },
          "metadata": {},
          "execution_count": 60
        },
        {
          "output_type": "stream",
          "name": "stdout",
          "text": [
            "{'n_neighbors': 1}\n",
            "KNeighborsClassifier(algorithm='brute', n_neighbors=1)\n",
            "              precision    recall  f1-score   support\n",
            "\n",
            "           0       0.79      0.77      0.78       403\n",
            "           1       0.77      0.79      0.78       394\n",
            "\n",
            "    accuracy                           0.78       797\n",
            "   macro avg       0.78      0.78      0.78       797\n",
            "weighted avg       0.78      0.78      0.78       797\n",
            "\n",
            "[[310  93]\n",
            " [ 81 313]]\n"
          ]
        },
        {
          "output_type": "execute_result",
          "data": {
            "text/plain": [
              "KNeighborsClassifier(algorithm='brute', n_neighbors=3)"
            ]
          },
          "metadata": {},
          "execution_count": 60
        },
        {
          "output_type": "stream",
          "name": "stdout",
          "text": [
            "              precision    recall  f1-score   support\n",
            "\n",
            "           0       0.78      0.74      0.76       403\n",
            "           1       0.75      0.78      0.76       394\n",
            "\n",
            "    accuracy                           0.76       797\n",
            "   macro avg       0.76      0.76      0.76       797\n",
            "weighted avg       0.76      0.76      0.76       797\n",
            "\n",
            "0.7603513174404015\n"
          ]
        }
      ],
      "source": [
        "neigh = KNeighborsClassifier(n_neighbors=3, algorithm=\"brute\")\n",
        "param_grid = {'n_neighbors': list(range(1, 15, 2))}  \n",
        "\n",
        "grid = GridSearchCV(neigh , param_grid, refit = True, cv = 5, verbose = 3,\n",
        "                    error_score=0,\n",
        "                    n_jobs=-1) \n",
        "  \n",
        "# fitting the model for grid search \n",
        "grid.fit(scaler.fit_transform(X_train), y_train) \n",
        "\n",
        "#### Best Grid search parameter fitting\n",
        "\n",
        "# print best parameter after tuning \n",
        "print(grid.best_params_) \n",
        "  \n",
        "# print how our model looks after hyper-parameter tuning \n",
        "print(grid.best_estimator_) \n",
        "\n",
        "grid_predictions = grid.predict(scaler.transform(X_test)) \n",
        "  \n",
        "# print classification report \n",
        "print(classification_report(y_test, grid_predictions)) \n",
        "print(confusion_matrix(y_test, grid_predictions)) \n",
        "neigh.fit(scaler.fit_transform(X_train), y_train)\n",
        "predictions = neigh.predict(scaler.transform(X_test))\n",
        "\n",
        "print(classification_report(y_test, predictions)) \n",
        "print(accuracy_score(y_test, predictions))"
      ]
    },
    {
      "cell_type": "code",
      "execution_count": null,
      "metadata": {
        "colab": {
          "base_uri": "https://localhost:8080/"
        },
        "id": "OESao0ooHyIp",
        "outputId": "639f9c63-5161-4d0f-a266-8c54c3bedf9a"
      },
      "outputs": [
        {
          "name": "stdout",
          "output_type": "stream",
          "text": [
            "Accuracy: 0.7770 (+/- 0.0266)\n"
          ]
        }
      ],
      "source": [
        "#Nearest NEighbour Classifier\n",
        "scores_NNeigh = cross_val_score(grid.best_estimator_, scaler.fit_transform(X), y, cv=5)\n",
        "\n",
        "#print accuracy and standard deviation\n",
        "print(\"Accuracy: %0.4f (+/- %0.4f)\" % (scores_NNeigh.mean(), scores_NNeigh.std() * 2))"
      ]
    },
    {
      "cell_type": "markdown",
      "metadata": {
        "id": "yQkNA_sqH1zT"
      },
      "source": [
        "**GAUSSIAN NAIVE BAYES**"
      ]
    },
    {
      "cell_type": "code",
      "execution_count": null,
      "metadata": {
        "colab": {
          "base_uri": "https://localhost:8080/"
        },
        "id": "M4eRc-vJH8do",
        "outputId": "a08b7986-43b7-442f-bd29-dce516b57970"
      },
      "outputs": [
        {
          "name": "stdout",
          "output_type": "stream",
          "text": [
            "Accuracy: 0.7776 (+/- 0.0128)\n"
          ]
        }
      ],
      "source": [
        "#NAive bayes classfier\n",
        "gnb = GaussianNB()\n",
        "scores_NB = cross_val_score(gnb, scaler.fit_transform(X), y, cv=5)\n",
        "\n",
        "#print accuracy and standard deviation\n",
        "print(\"Accuracy: %0.4f (+/- %0.4f)\" % (scores_NB.mean(), scores_NB.std() * 2))"
      ]
    },
    {
      "cell_type": "markdown",
      "metadata": {
        "id": "YQZuPVLqIGKy"
      },
      "source": [
        "**STOCHASTIC GRADIENT**"
      ]
    },
    {
      "cell_type": "code",
      "execution_count": null,
      "metadata": {
        "colab": {
          "base_uri": "https://localhost:8080/"
        },
        "id": "n6A0jqezIAIf",
        "outputId": "dc29b2ae-cc19-4ad6-f09e-4a1c6e3e54cf"
      },
      "outputs": [
        {
          "name": "stdout",
          "output_type": "stream",
          "text": [
            "Fitting 5 folds for each of 9 candidates, totalling 45 fits\n"
          ]
        },
        {
          "data": {
            "text/plain": [
              "GridSearchCV(cv=5, error_score=0,\n",
              "             estimator=SGDClassifier(class_weight='balanced', random_state=5),\n",
              "             n_jobs=-1,\n",
              "             param_grid={'loss': ['hinge', 'log', 'modified_huber',\n",
              "                                  'squared_hinge', 'perceptron', 'squared_loss',\n",
              "                                  'huber', 'epsilon_insensitive',\n",
              "                                  'squared_epsilon_insensitive']},\n",
              "             verbose=3)"
            ]
          },
          "execution_count": 47,
          "metadata": {},
          "output_type": "execute_result"
        },
        {
          "name": "stdout",
          "output_type": "stream",
          "text": [
            "{'loss': 'huber'}\n",
            "SGDClassifier(class_weight='balanced', loss='huber', random_state=5)\n",
            "              precision    recall  f1-score   support\n",
            "\n",
            "           0       0.75      0.39      0.51       403\n",
            "           1       0.58      0.87      0.70       394\n",
            "\n",
            "    accuracy                           0.62       797\n",
            "   macro avg       0.67      0.63      0.60       797\n",
            "weighted avg       0.67      0.62      0.60       797\n",
            "\n",
            "[[156 247]\n",
            " [ 52 342]]\n"
          ]
        },
        {
          "data": {
            "text/plain": [
              "KNeighborsClassifier(algorithm='brute', n_neighbors=3)"
            ]
          },
          "execution_count": 47,
          "metadata": {},
          "output_type": "execute_result"
        },
        {
          "name": "stdout",
          "output_type": "stream",
          "text": [
            "              precision    recall  f1-score   support\n",
            "\n",
            "           0       0.78      0.74      0.76       403\n",
            "           1       0.75      0.78      0.76       394\n",
            "\n",
            "    accuracy                           0.76       797\n",
            "   macro avg       0.76      0.76      0.76       797\n",
            "weighted avg       0.76      0.76      0.76       797\n",
            "\n"
          ]
        }
      ],
      "source": [
        "param_grid = {'loss': ['hinge', 'log', 'modified_huber',\n",
        "    'squared_hinge', 'perceptron', 'squared_loss',\n",
        "    'huber', 'epsilon_insensitive', 'squared_epsilon_insensitive']}\n",
        "sgc = SGDClassifier(random_state=5, class_weight='balanced')\n",
        "grid = GridSearchCV(sgc , param_grid, refit = True, cv = 5, verbose = 3,\n",
        "                    error_score=0,\n",
        "                    n_jobs=-1) \n",
        "  \n",
        "# fitting the model for grid search \n",
        "grid.fit(scaler.fit_transform(X_train), y_train) \n",
        "\n",
        "#### Best Grid search parameter fitting\n",
        "\n",
        "# print best parameter after tuning \n",
        "print(grid.best_params_) \n",
        "  \n",
        "# print how our model looks after hyper-parameter tuning \n",
        "print(grid.best_estimator_) \n",
        "\n",
        "grid_predictions = grid.predict(scaler.transform(X_test)) \n",
        "  \n",
        "# print classification report \n",
        "print(classification_report(y_test, grid_predictions)) \n",
        "print(confusion_matrix(y_test, grid_predictions)) \n",
        "neigh.fit(scaler.fit_transform(X_train), y_train)\n",
        "predictions = neigh.predict(scaler.transform(X_test))\n",
        "print(classification_report(y_test, predictions)) "
      ]
    },
    {
      "cell_type": "code",
      "execution_count": null,
      "metadata": {
        "colab": {
          "base_uri": "https://localhost:8080/"
        },
        "id": "jWEbzVT_IMW-",
        "outputId": "c7541271-fd80-44b6-d539-62c4d889829b"
      },
      "outputs": [
        {
          "name": "stdout",
          "output_type": "stream",
          "text": [
            "Accuracy: 0.6094 (+/- 0.0949)\n"
          ]
        }
      ],
      "source": [
        "#Stochastic Gradient boosting classifier \n",
        "scores_SGD = cross_val_score(grid.best_estimator_, scaler.fit_transform(X), y, cv=5)\n",
        "\n",
        "#print accuracy and standard deviation\n",
        "print(\"Accuracy: %0.4f (+/- %0.4f)\" % (scores_SGD.mean(), scores_SGD.std() * 2))"
      ]
    },
    {
      "cell_type": "code",
      "execution_count": null,
      "metadata": {
        "id": "NB1LzU8KMeTe"
      },
      "outputs": [],
      "source": [
        "#Creating plot elelments\n",
        "models = ['SVM with bal', 'BAG_SVM wit bal', 'EXT with bal', 'ADB with bal', 'GB', 'XGB', 'RF', 'NN', 'NNEIGH', 'NB', 'SGD with bal']\n",
        "x_pos = np.arange(len(models))\n",
        "mean = [scores_SVM.mean(), scores_BAG.mean(), scores_EXT.mean(), scores_ADB.mean(), scores_GB.mean(), scores_XGB.mean(), scores_RF.mean(),scores_NN.mean(), scores_NNeigh.mean(), scores_NB.mean(), scores_SGD.mean() ]\n",
        "std = [scores_SVM.std(), scores_BAG.std(), scores_EXT.std(), scores_ADB.std(), scores_GB.std(), scores_XGB.std(), scores_RF.std(),scores_NN.std(), scores_NNeigh.std(), scores_NB.std(), scores_SGD.std() ]"
      ]
    },
    {
      "cell_type": "code",
      "execution_count": null,
      "metadata": {
        "colab": {
          "base_uri": "https://localhost:8080/",
          "height": 734
        },
        "id": "kM6WVCjSMoRD",
        "outputId": "fb4f36b6-b69f-43ff-df7c-d11bb5470874"
      },
      "outputs": [
        {
          "data": {
            "text/plain": [
              "<BarContainer object of 11 artists>"
            ]
          },
          "execution_count": 50,
          "metadata": {},
          "output_type": "execute_result"
        },
        {
          "data": {
            "text/plain": [
              "Text(0, 0.5, 'Accuracy')"
            ]
          },
          "execution_count": 50,
          "metadata": {},
          "output_type": "execute_result"
        },
        {
          "data": {
            "text/plain": [
              "[<matplotlib.axis.XTick at 0x7f8bddd6d350>,\n",
              " <matplotlib.axis.XTick at 0x7f8bddd6de50>,\n",
              " <matplotlib.axis.XTick at 0x7f8bddae22d0>,\n",
              " <matplotlib.axis.XTick at 0x7f8bddcb9b10>,\n",
              " <matplotlib.axis.XTick at 0x7f8bddcd1090>,\n",
              " <matplotlib.axis.XTick at 0x7f8bddcd1910>,\n",
              " <matplotlib.axis.XTick at 0x7f8bddada6d0>,\n",
              " <matplotlib.axis.XTick at 0x7f8bddadacd0>,\n",
              " <matplotlib.axis.XTick at 0x7f8bddf8aa50>,\n",
              " <matplotlib.axis.XTick at 0x7f8bddf8a550>,\n",
              " <matplotlib.axis.XTick at 0x7f8bddb3f450>]"
            ]
          },
          "execution_count": 50,
          "metadata": {},
          "output_type": "execute_result"
        },
        {
          "data": {
            "text/plain": [
              "[Text(0, 0, 'SVM with bal'),\n",
              " Text(0, 0, 'BAG_SVM wit bal'),\n",
              " Text(0, 0, 'EXT with bal'),\n",
              " Text(0, 0, 'ADB with bal'),\n",
              " Text(0, 0, 'GB'),\n",
              " Text(0, 0, 'XGB'),\n",
              " Text(0, 0, 'RF'),\n",
              " Text(0, 0, 'NN'),\n",
              " Text(0, 0, 'NNEIGH'),\n",
              " Text(0, 0, 'NB'),\n",
              " Text(0, 0, 'SGD with bal')]"
            ]
          },
          "execution_count": 50,
          "metadata": {},
          "output_type": "execute_result"
        },
        {
          "data": {
            "text/plain": [
              "Text(0.5, 1.0, 'Accuracy and standard deviation of classifiers in predicting wildfires')"
            ]
          },
          "execution_count": 50,
          "metadata": {},
          "output_type": "execute_result"
        },
        {
          "data": {
            "image/png": "[encoded data removed]",
            "text/plain": [
              "<Figure size 720x360 with 1 Axes>"
            ]
          },
          "metadata": {},
          "output_type": "display_data"
        }
      ],
      "source": [
        "#plot with class weight balance \n",
        "fig, ax = plt.subplots(figsize =(10,5))\n",
        "ax.bar(x_pos, mean, yerr=std, align='center', alpha=0.5, ecolor='red', capsize=18)\n",
        "ax.set_ylabel('Accuracy')\n",
        "ax.set_xticks(x_pos)\n",
        "ax.set_xticklabels(models, rotation=45)\n",
        "ax.set_title('Accuracy and standard deviation of classifiers in predicting wildfires')\n",
        "ax.yaxis.grid(True)\n",
        "# Save the figure and show\n",
        "plt.tight_layout()\n",
        "plt.savefig(\"accuracy_1\")\n",
        "plt.show()"
      ]
    },
    {
      "cell_type": "markdown",
      "metadata": {
        "id": "tnDv0UfyM17s"
      },
      "source": [
        "SVM = Support Vector Machine with Balanced Class Weight.\n",
        "\n",
        "BAG_SVM = bagging Classifiers (of SVMs with Balanced Class Weight).\n",
        "\n",
        "EXT = Extra Trees Classifier with Balanced Class Weight\n",
        "\n",
        "ADB = Adabost Classifier with Balanced Class Weight\n",
        "\n",
        "GB = Gradient Boosting\n",
        "\n",
        "XGB = Extreme Gradient Boosting\n",
        "\n",
        "RF = Random Forest\n",
        "\n",
        "NN = Neural Network\n",
        "\n",
        "NNEIGH = Nearest Neighbour\n",
        "\n",
        "SGD = Stochastic Gradient Descent with Balanced Class Weight"
      ]
    },
    {
      "cell_type": "markdown",
      "source": [
        "\n",
        "\n",
        "The best accuracy among the eleven models is obtained by using the Random Forest and Extreme Gradient Boosting (XGBOOST) classifiers.\n",
        "Extreme Gradient Boosting (XGBOOST).\n",
        "\n",
        "The accuracy is 85.06% for the Random Forest model and 84.7% for XGBoost respectively."
      ],
      "metadata": {
        "id": "Li58jNM5rk3W"
      }
    }
  ],
  "metadata": {
    "colab": {
      "provenance": []
    },
    "kernelspec": {
      "display_name": "Python 3",
      "name": "python3"
    },
    "language_info": {
      "name": "python"
    }
  },
  "nbformat": 4,
  "nbformat_minor": 0
}